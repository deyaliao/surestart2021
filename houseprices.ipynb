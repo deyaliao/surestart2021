{
  "nbformat": 4,
  "nbformat_minor": 0,
  "metadata": {
    "colab": {
      "name": "houseprices.ipynb",
      "provenance": [],
      "authorship_tag": "ABX9TyMqS/W90+eDwCmzF6mobppt",
      "include_colab_link": true
    },
    "kernelspec": {
      "name": "python3",
      "display_name": "Python 3"
    }
  },
  "cells": [
    {
      "cell_type": "markdown",
      "metadata": {
        "id": "view-in-github",
        "colab_type": "text"
      },
      "source": [
        "<a href=\"https://colab.research.google.com/github/deyaliao/surestart2021/blob/main/houseprices.ipynb\" target=\"_parent\"><img src=\"https://colab.research.google.com/assets/colab-badge.svg\" alt=\"Open In Colab\"/></a>"
      ]
    },
    {
      "cell_type": "code",
      "metadata": {
        "id": "RdcuWOHb4EOu"
      },
      "source": [
        "# import all packages\n",
        "\n",
        "import os # accessing directory structure\n",
        "import numpy as np # linear algebra\n",
        "import pandas as pd # data processing, CSV file I/O (e.g. pd.read_csv)\n",
        "import seaborn as sns\n",
        "import matplotlib.pyplot as plt # plotting\n",
        "%matplotlib inline\n"
      ],
      "execution_count": 2,
      "outputs": []
    },
    {
      "cell_type": "code",
      "metadata": {
        "colab": {
          "resources": {
            "http://localhost:8080/nbextensions/google.colab/files.js": {
              "data": "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",
              "ok": true,
              "headers": [
                [
                  "content-type",
                  "application/javascript"
                ]
              ],
              "status": 200,
              "status_text": ""
            }
          },
          "base_uri": "https://localhost:8080/",
          "height": 72
        },
        "id": "XBXAHbCF4ZhU",
        "outputId": "6e88d944-6e1f-470a-852a-f031818009f6"
      },
      "source": [
        "# import data and download\n",
        "from google.colab import files\n",
        "uploaded = files.upload()\n"
      ],
      "execution_count": 3,
      "outputs": [
        {
          "output_type": "display_data",
          "data": {
            "text/html": [
              "\n",
              "     <input type=\"file\" id=\"files-eaf5590a-2171-4c54-9df5-92901241000c\" name=\"files[]\" multiple disabled\n",
              "        style=\"border:none\" />\n",
              "     <output id=\"result-eaf5590a-2171-4c54-9df5-92901241000c\">\n",
              "      Upload widget is only available when the cell has been executed in the\n",
              "      current browser session. Please rerun this cell to enable.\n",
              "      </output>\n",
              "      <script src=\"/nbextensions/google.colab/files.js\"></script> "
            ],
            "text/plain": [
              "<IPython.core.display.HTML object>"
            ]
          },
          "metadata": {
            "tags": []
          }
        },
        {
          "output_type": "stream",
          "text": [
            "Saving housepricedata.csv to housepricedata.csv\n"
          ],
          "name": "stdout"
        }
      ]
    },
    {
      "cell_type": "code",
      "metadata": {
        "colab": {
          "base_uri": "https://localhost:8080/",
          "height": 419
        },
        "id": "cjTleKUw4gMH",
        "outputId": "e4f25f3d-b026-4ba9-84a4-eb48e2dcda54"
      },
      "source": [
        "df = pd.read_csv('housepricedata.csv')\n",
        "df\n"
      ],
      "execution_count": 4,
      "outputs": [
        {
          "output_type": "execute_result",
          "data": {
            "text/html": [
              "<div>\n",
              "<style scoped>\n",
              "    .dataframe tbody tr th:only-of-type {\n",
              "        vertical-align: middle;\n",
              "    }\n",
              "\n",
              "    .dataframe tbody tr th {\n",
              "        vertical-align: top;\n",
              "    }\n",
              "\n",
              "    .dataframe thead th {\n",
              "        text-align: right;\n",
              "    }\n",
              "</style>\n",
              "<table border=\"1\" class=\"dataframe\">\n",
              "  <thead>\n",
              "    <tr style=\"text-align: right;\">\n",
              "      <th></th>\n",
              "      <th>LotArea</th>\n",
              "      <th>OverallQual</th>\n",
              "      <th>OverallCond</th>\n",
              "      <th>TotalBsmtSF</th>\n",
              "      <th>FullBath</th>\n",
              "      <th>HalfBath</th>\n",
              "      <th>BedroomAbvGr</th>\n",
              "      <th>TotRmsAbvGrd</th>\n",
              "      <th>Fireplaces</th>\n",
              "      <th>GarageArea</th>\n",
              "      <th>AboveMedianPrice</th>\n",
              "    </tr>\n",
              "  </thead>\n",
              "  <tbody>\n",
              "    <tr>\n",
              "      <th>0</th>\n",
              "      <td>8450</td>\n",
              "      <td>7</td>\n",
              "      <td>5</td>\n",
              "      <td>856</td>\n",
              "      <td>2</td>\n",
              "      <td>1</td>\n",
              "      <td>3</td>\n",
              "      <td>8</td>\n",
              "      <td>0</td>\n",
              "      <td>548</td>\n",
              "      <td>1</td>\n",
              "    </tr>\n",
              "    <tr>\n",
              "      <th>1</th>\n",
              "      <td>9600</td>\n",
              "      <td>6</td>\n",
              "      <td>8</td>\n",
              "      <td>1262</td>\n",
              "      <td>2</td>\n",
              "      <td>0</td>\n",
              "      <td>3</td>\n",
              "      <td>6</td>\n",
              "      <td>1</td>\n",
              "      <td>460</td>\n",
              "      <td>1</td>\n",
              "    </tr>\n",
              "    <tr>\n",
              "      <th>2</th>\n",
              "      <td>11250</td>\n",
              "      <td>7</td>\n",
              "      <td>5</td>\n",
              "      <td>920</td>\n",
              "      <td>2</td>\n",
              "      <td>1</td>\n",
              "      <td>3</td>\n",
              "      <td>6</td>\n",
              "      <td>1</td>\n",
              "      <td>608</td>\n",
              "      <td>1</td>\n",
              "    </tr>\n",
              "    <tr>\n",
              "      <th>3</th>\n",
              "      <td>9550</td>\n",
              "      <td>7</td>\n",
              "      <td>5</td>\n",
              "      <td>756</td>\n",
              "      <td>1</td>\n",
              "      <td>0</td>\n",
              "      <td>3</td>\n",
              "      <td>7</td>\n",
              "      <td>1</td>\n",
              "      <td>642</td>\n",
              "      <td>0</td>\n",
              "    </tr>\n",
              "    <tr>\n",
              "      <th>4</th>\n",
              "      <td>14260</td>\n",
              "      <td>8</td>\n",
              "      <td>5</td>\n",
              "      <td>1145</td>\n",
              "      <td>2</td>\n",
              "      <td>1</td>\n",
              "      <td>4</td>\n",
              "      <td>9</td>\n",
              "      <td>1</td>\n",
              "      <td>836</td>\n",
              "      <td>1</td>\n",
              "    </tr>\n",
              "    <tr>\n",
              "      <th>...</th>\n",
              "      <td>...</td>\n",
              "      <td>...</td>\n",
              "      <td>...</td>\n",
              "      <td>...</td>\n",
              "      <td>...</td>\n",
              "      <td>...</td>\n",
              "      <td>...</td>\n",
              "      <td>...</td>\n",
              "      <td>...</td>\n",
              "      <td>...</td>\n",
              "      <td>...</td>\n",
              "    </tr>\n",
              "    <tr>\n",
              "      <th>1455</th>\n",
              "      <td>7917</td>\n",
              "      <td>6</td>\n",
              "      <td>5</td>\n",
              "      <td>953</td>\n",
              "      <td>2</td>\n",
              "      <td>1</td>\n",
              "      <td>3</td>\n",
              "      <td>7</td>\n",
              "      <td>1</td>\n",
              "      <td>460</td>\n",
              "      <td>1</td>\n",
              "    </tr>\n",
              "    <tr>\n",
              "      <th>1456</th>\n",
              "      <td>13175</td>\n",
              "      <td>6</td>\n",
              "      <td>6</td>\n",
              "      <td>1542</td>\n",
              "      <td>2</td>\n",
              "      <td>0</td>\n",
              "      <td>3</td>\n",
              "      <td>7</td>\n",
              "      <td>2</td>\n",
              "      <td>500</td>\n",
              "      <td>1</td>\n",
              "    </tr>\n",
              "    <tr>\n",
              "      <th>1457</th>\n",
              "      <td>9042</td>\n",
              "      <td>7</td>\n",
              "      <td>9</td>\n",
              "      <td>1152</td>\n",
              "      <td>2</td>\n",
              "      <td>0</td>\n",
              "      <td>4</td>\n",
              "      <td>9</td>\n",
              "      <td>2</td>\n",
              "      <td>252</td>\n",
              "      <td>1</td>\n",
              "    </tr>\n",
              "    <tr>\n",
              "      <th>1458</th>\n",
              "      <td>9717</td>\n",
              "      <td>5</td>\n",
              "      <td>6</td>\n",
              "      <td>1078</td>\n",
              "      <td>1</td>\n",
              "      <td>0</td>\n",
              "      <td>2</td>\n",
              "      <td>5</td>\n",
              "      <td>0</td>\n",
              "      <td>240</td>\n",
              "      <td>0</td>\n",
              "    </tr>\n",
              "    <tr>\n",
              "      <th>1459</th>\n",
              "      <td>9937</td>\n",
              "      <td>5</td>\n",
              "      <td>6</td>\n",
              "      <td>1256</td>\n",
              "      <td>1</td>\n",
              "      <td>1</td>\n",
              "      <td>3</td>\n",
              "      <td>6</td>\n",
              "      <td>0</td>\n",
              "      <td>276</td>\n",
              "      <td>0</td>\n",
              "    </tr>\n",
              "  </tbody>\n",
              "</table>\n",
              "<p>1460 rows × 11 columns</p>\n",
              "</div>"
            ],
            "text/plain": [
              "      LotArea  OverallQual  ...  GarageArea  AboveMedianPrice\n",
              "0        8450            7  ...         548                 1\n",
              "1        9600            6  ...         460                 1\n",
              "2       11250            7  ...         608                 1\n",
              "3        9550            7  ...         642                 0\n",
              "4       14260            8  ...         836                 1\n",
              "...       ...          ...  ...         ...               ...\n",
              "1455     7917            6  ...         460                 1\n",
              "1456    13175            6  ...         500                 1\n",
              "1457     9042            7  ...         252                 1\n",
              "1458     9717            5  ...         240                 0\n",
              "1459     9937            5  ...         276                 0\n",
              "\n",
              "[1460 rows x 11 columns]"
            ]
          },
          "metadata": {
            "tags": []
          },
          "execution_count": 4
        }
      ]
    },
    {
      "cell_type": "code",
      "metadata": {
        "colab": {
          "base_uri": "https://localhost:8080/"
        },
        "id": "asGsxEyZ4s4y",
        "outputId": "57615aa9-e7bb-405c-aa4c-62e32219f7f8"
      },
      "source": [
        "# convert to arrays\n",
        "dataset = df.values\n",
        "dataset"
      ],
      "execution_count": 5,
      "outputs": [
        {
          "output_type": "execute_result",
          "data": {
            "text/plain": [
              "array([[ 8450,     7,     5, ...,     0,   548,     1],\n",
              "       [ 9600,     6,     8, ...,     1,   460,     1],\n",
              "       [11250,     7,     5, ...,     1,   608,     1],\n",
              "       ...,\n",
              "       [ 9042,     7,     9, ...,     2,   252,     1],\n",
              "       [ 9717,     5,     6, ...,     0,   240,     0],\n",
              "       [ 9937,     5,     6, ...,     0,   276,     0]])"
            ]
          },
          "metadata": {
            "tags": []
          },
          "execution_count": 5
        }
      ]
    },
    {
      "cell_type": "code",
      "metadata": {
        "id": "2VyXDweo5It4"
      },
      "source": [
        "# split all features\n",
        "X = dataset[:,0:10]\n",
        "Y = dataset[:,10]\n"
      ],
      "execution_count": 6,
      "outputs": []
    },
    {
      "cell_type": "code",
      "metadata": {
        "colab": {
          "base_uri": "https://localhost:8080/"
        },
        "id": "Nwtjbhrf5Sfw",
        "outputId": "5e4b2ec0-652d-4f33-f63f-b393c21a1225"
      },
      "source": [
        "# data preprocessing\n",
        "from sklearn import preprocessing\n",
        "min_max_scaler = preprocessing.MinMaxScaler()\n",
        "X_scale = min_max_scaler.fit_transform(X)\n",
        "X_scale"
      ],
      "execution_count": 7,
      "outputs": [
        {
          "output_type": "execute_result",
          "data": {
            "text/plain": [
              "array([[0.0334198 , 0.66666667, 0.5       , ..., 0.5       , 0.        ,\n",
              "        0.3864598 ],\n",
              "       [0.03879502, 0.55555556, 0.875     , ..., 0.33333333, 0.33333333,\n",
              "        0.32440056],\n",
              "       [0.04650728, 0.66666667, 0.5       , ..., 0.33333333, 0.33333333,\n",
              "        0.42877292],\n",
              "       ...,\n",
              "       [0.03618687, 0.66666667, 1.        , ..., 0.58333333, 0.66666667,\n",
              "        0.17771509],\n",
              "       [0.03934189, 0.44444444, 0.625     , ..., 0.25      , 0.        ,\n",
              "        0.16925247],\n",
              "       [0.04037019, 0.44444444, 0.625     , ..., 0.33333333, 0.        ,\n",
              "        0.19464034]])"
            ]
          },
          "metadata": {
            "tags": []
          },
          "execution_count": 7
        }
      ]
    },
    {
      "cell_type": "code",
      "metadata": {
        "id": "PK7_cVNz5iId"
      },
      "source": [
        "from sklearn.model_selection import train_test_split\n",
        "X_train, X_val_and_test, Y_train, Y_val_and_test = train_test_split(X_scale, Y, test_size=0.3)\n",
        "X_val, X_test, Y_val, Y_test = train_test_split(X_val_and_test, Y_val_and_test, test_size=0.5)\n"
      ],
      "execution_count": 8,
      "outputs": []
    },
    {
      "cell_type": "markdown",
      "metadata": {
        "id": "5C4Vma8F6IRM"
      },
      "source": [
        "create model itself"
      ]
    },
    {
      "cell_type": "code",
      "metadata": {
        "id": "r2ozv5Uz6Jq_"
      },
      "source": [
        "from keras.models import Sequential\n",
        "from keras.layers import Dense\n",
        "\n",
        "model = Sequential([\n",
        "    Dense(32, activation='relu', input_shape=(10,)),\n",
        "    Dense(32, activation='relu'),\n",
        "    Dense(1, activation='sigmoid'),\n",
        "])\n"
      ],
      "execution_count": 9,
      "outputs": []
    },
    {
      "cell_type": "code",
      "metadata": {
        "colab": {
          "base_uri": "https://localhost:8080/"
        },
        "id": "DC1juLCX6VmZ",
        "outputId": "46db2b4c-44db-4a61-c0b3-5bcb23a0fe3b"
      },
      "source": [
        "model.compile(optimizer='sgd',\n",
        "              loss='binary_crossentropy',\n",
        "              metrics=['accuracy'])\n",
        "# train\n",
        "hist = model.fit(X_train, Y_train,\n",
        "          batch_size=32, epochs=100,\n",
        "          validation_data=(X_val, Y_val))"
      ],
      "execution_count": 10,
      "outputs": [
        {
          "output_type": "stream",
          "text": [
            "Epoch 1/100\n",
            "32/32 [==============================] - 1s 9ms/step - loss: 0.6697 - accuracy: 0.5100 - val_loss: 0.6732 - val_accuracy: 0.4977\n",
            "Epoch 2/100\n",
            "32/32 [==============================] - 0s 3ms/step - loss: 0.6664 - accuracy: 0.5060 - val_loss: 0.6643 - val_accuracy: 0.5068\n",
            "Epoch 3/100\n",
            "32/32 [==============================] - 0s 3ms/step - loss: 0.6528 - accuracy: 0.5400 - val_loss: 0.6564 - val_accuracy: 0.5388\n",
            "Epoch 4/100\n",
            "32/32 [==============================] - 0s 2ms/step - loss: 0.6456 - accuracy: 0.5634 - val_loss: 0.6493 - val_accuracy: 0.6438\n",
            "Epoch 5/100\n",
            "32/32 [==============================] - 0s 3ms/step - loss: 0.6385 - accuracy: 0.6562 - val_loss: 0.6426 - val_accuracy: 0.6667\n",
            "Epoch 6/100\n",
            "32/32 [==============================] - 0s 3ms/step - loss: 0.6331 - accuracy: 0.6649 - val_loss: 0.6360 - val_accuracy: 0.6986\n",
            "Epoch 7/100\n",
            "32/32 [==============================] - 0s 2ms/step - loss: 0.6249 - accuracy: 0.7080 - val_loss: 0.6295 - val_accuracy: 0.7397\n",
            "Epoch 8/100\n",
            "32/32 [==============================] - 0s 3ms/step - loss: 0.6183 - accuracy: 0.7281 - val_loss: 0.6230 - val_accuracy: 0.7534\n",
            "Epoch 9/100\n",
            "32/32 [==============================] - 0s 3ms/step - loss: 0.6138 - accuracy: 0.7615 - val_loss: 0.6165 - val_accuracy: 0.7671\n",
            "Epoch 10/100\n",
            "32/32 [==============================] - 0s 3ms/step - loss: 0.6065 - accuracy: 0.7943 - val_loss: 0.6100 - val_accuracy: 0.7763\n",
            "Epoch 11/100\n",
            "32/32 [==============================] - 0s 3ms/step - loss: 0.6023 - accuracy: 0.7725 - val_loss: 0.6032 - val_accuracy: 0.7900\n",
            "Epoch 12/100\n",
            "32/32 [==============================] - 0s 3ms/step - loss: 0.5852 - accuracy: 0.8136 - val_loss: 0.5964 - val_accuracy: 0.7945\n",
            "Epoch 13/100\n",
            "32/32 [==============================] - 0s 3ms/step - loss: 0.5766 - accuracy: 0.8182 - val_loss: 0.5894 - val_accuracy: 0.7900\n",
            "Epoch 14/100\n",
            "32/32 [==============================] - 0s 3ms/step - loss: 0.5704 - accuracy: 0.8152 - val_loss: 0.5823 - val_accuracy: 0.8037\n",
            "Epoch 15/100\n",
            "32/32 [==============================] - 0s 3ms/step - loss: 0.5628 - accuracy: 0.8352 - val_loss: 0.5750 - val_accuracy: 0.8037\n",
            "Epoch 16/100\n",
            "32/32 [==============================] - 0s 3ms/step - loss: 0.5565 - accuracy: 0.8360 - val_loss: 0.5676 - val_accuracy: 0.8082\n",
            "Epoch 17/100\n",
            "32/32 [==============================] - 0s 3ms/step - loss: 0.5448 - accuracy: 0.8370 - val_loss: 0.5602 - val_accuracy: 0.8037\n",
            "Epoch 18/100\n",
            "32/32 [==============================] - 0s 3ms/step - loss: 0.5415 - accuracy: 0.8589 - val_loss: 0.5526 - val_accuracy: 0.8082\n",
            "Epoch 19/100\n",
            "32/32 [==============================] - 0s 3ms/step - loss: 0.5421 - accuracy: 0.8442 - val_loss: 0.5448 - val_accuracy: 0.8037\n",
            "Epoch 20/100\n",
            "32/32 [==============================] - 0s 3ms/step - loss: 0.5222 - accuracy: 0.8456 - val_loss: 0.5371 - val_accuracy: 0.8265\n",
            "Epoch 21/100\n",
            "32/32 [==============================] - 0s 3ms/step - loss: 0.5180 - accuracy: 0.8567 - val_loss: 0.5295 - val_accuracy: 0.8402\n",
            "Epoch 22/100\n",
            "32/32 [==============================] - 0s 3ms/step - loss: 0.5104 - accuracy: 0.8579 - val_loss: 0.5218 - val_accuracy: 0.8356\n",
            "Epoch 23/100\n",
            "32/32 [==============================] - 0s 3ms/step - loss: 0.5052 - accuracy: 0.8508 - val_loss: 0.5142 - val_accuracy: 0.8402\n",
            "Epoch 24/100\n",
            "32/32 [==============================] - 0s 3ms/step - loss: 0.5093 - accuracy: 0.8404 - val_loss: 0.5062 - val_accuracy: 0.8402\n",
            "Epoch 25/100\n",
            "32/32 [==============================] - 0s 3ms/step - loss: 0.4852 - accuracy: 0.8667 - val_loss: 0.4987 - val_accuracy: 0.8356\n",
            "Epoch 26/100\n",
            "32/32 [==============================] - 0s 3ms/step - loss: 0.4927 - accuracy: 0.8494 - val_loss: 0.4914 - val_accuracy: 0.8402\n",
            "Epoch 27/100\n",
            "32/32 [==============================] - 0s 3ms/step - loss: 0.4582 - accuracy: 0.8803 - val_loss: 0.4839 - val_accuracy: 0.8402\n",
            "Epoch 28/100\n",
            "32/32 [==============================] - 0s 3ms/step - loss: 0.4617 - accuracy: 0.8715 - val_loss: 0.4765 - val_accuracy: 0.8447\n",
            "Epoch 29/100\n",
            "32/32 [==============================] - 0s 3ms/step - loss: 0.4499 - accuracy: 0.8653 - val_loss: 0.4693 - val_accuracy: 0.8402\n",
            "Epoch 30/100\n",
            "32/32 [==============================] - 0s 2ms/step - loss: 0.4486 - accuracy: 0.8594 - val_loss: 0.4624 - val_accuracy: 0.8447\n",
            "Epoch 31/100\n",
            "32/32 [==============================] - 0s 2ms/step - loss: 0.4372 - accuracy: 0.8648 - val_loss: 0.4562 - val_accuracy: 0.8493\n",
            "Epoch 32/100\n",
            "32/32 [==============================] - 0s 3ms/step - loss: 0.4336 - accuracy: 0.8619 - val_loss: 0.4497 - val_accuracy: 0.8493\n",
            "Epoch 33/100\n",
            "32/32 [==============================] - 0s 3ms/step - loss: 0.4270 - accuracy: 0.8600 - val_loss: 0.4431 - val_accuracy: 0.8539\n",
            "Epoch 34/100\n",
            "32/32 [==============================] - 0s 3ms/step - loss: 0.4342 - accuracy: 0.8537 - val_loss: 0.4368 - val_accuracy: 0.8539\n",
            "Epoch 35/100\n",
            "32/32 [==============================] - 0s 3ms/step - loss: 0.3971 - accuracy: 0.8837 - val_loss: 0.4312 - val_accuracy: 0.8584\n",
            "Epoch 36/100\n",
            "32/32 [==============================] - 0s 3ms/step - loss: 0.4120 - accuracy: 0.8464 - val_loss: 0.4261 - val_accuracy: 0.8493\n",
            "Epoch 37/100\n",
            "32/32 [==============================] - 0s 3ms/step - loss: 0.4048 - accuracy: 0.8578 - val_loss: 0.4204 - val_accuracy: 0.8539\n",
            "Epoch 38/100\n",
            "32/32 [==============================] - 0s 3ms/step - loss: 0.4072 - accuracy: 0.8498 - val_loss: 0.4151 - val_accuracy: 0.8539\n",
            "Epoch 39/100\n",
            "32/32 [==============================] - 0s 3ms/step - loss: 0.3825 - accuracy: 0.8739 - val_loss: 0.4092 - val_accuracy: 0.8584\n",
            "Epoch 40/100\n",
            "32/32 [==============================] - 0s 3ms/step - loss: 0.3762 - accuracy: 0.8789 - val_loss: 0.4049 - val_accuracy: 0.8584\n",
            "Epoch 41/100\n",
            "32/32 [==============================] - 0s 3ms/step - loss: 0.3778 - accuracy: 0.8882 - val_loss: 0.3998 - val_accuracy: 0.8584\n",
            "Epoch 42/100\n",
            "32/32 [==============================] - 0s 2ms/step - loss: 0.3674 - accuracy: 0.8813 - val_loss: 0.3951 - val_accuracy: 0.8630\n",
            "Epoch 43/100\n",
            "32/32 [==============================] - 0s 2ms/step - loss: 0.3793 - accuracy: 0.8772 - val_loss: 0.3914 - val_accuracy: 0.8539\n",
            "Epoch 44/100\n",
            "32/32 [==============================] - 0s 3ms/step - loss: 0.3634 - accuracy: 0.8703 - val_loss: 0.3876 - val_accuracy: 0.8584\n",
            "Epoch 45/100\n",
            "32/32 [==============================] - 0s 2ms/step - loss: 0.3679 - accuracy: 0.8698 - val_loss: 0.3833 - val_accuracy: 0.8584\n",
            "Epoch 46/100\n",
            "32/32 [==============================] - 0s 2ms/step - loss: 0.3806 - accuracy: 0.8680 - val_loss: 0.3802 - val_accuracy: 0.8676\n",
            "Epoch 47/100\n",
            "32/32 [==============================] - 0s 3ms/step - loss: 0.3478 - accuracy: 0.8759 - val_loss: 0.3764 - val_accuracy: 0.8676\n",
            "Epoch 48/100\n",
            "32/32 [==============================] - 0s 2ms/step - loss: 0.3576 - accuracy: 0.8816 - val_loss: 0.3721 - val_accuracy: 0.8630\n",
            "Epoch 49/100\n",
            "32/32 [==============================] - 0s 3ms/step - loss: 0.3792 - accuracy: 0.8715 - val_loss: 0.3699 - val_accuracy: 0.8721\n",
            "Epoch 50/100\n",
            "32/32 [==============================] - 0s 2ms/step - loss: 0.3510 - accuracy: 0.8677 - val_loss: 0.3664 - val_accuracy: 0.8767\n",
            "Epoch 51/100\n",
            "32/32 [==============================] - 0s 3ms/step - loss: 0.3517 - accuracy: 0.8695 - val_loss: 0.3628 - val_accuracy: 0.8676\n",
            "Epoch 52/100\n",
            "32/32 [==============================] - 0s 3ms/step - loss: 0.3310 - accuracy: 0.8792 - val_loss: 0.3625 - val_accuracy: 0.8676\n",
            "Epoch 53/100\n",
            "32/32 [==============================] - 0s 3ms/step - loss: 0.3363 - accuracy: 0.8729 - val_loss: 0.3576 - val_accuracy: 0.8767\n",
            "Epoch 54/100\n",
            "32/32 [==============================] - 0s 3ms/step - loss: 0.3509 - accuracy: 0.8675 - val_loss: 0.3558 - val_accuracy: 0.8721\n",
            "Epoch 55/100\n",
            "32/32 [==============================] - 0s 3ms/step - loss: 0.3492 - accuracy: 0.8602 - val_loss: 0.3525 - val_accuracy: 0.8767\n",
            "Epoch 56/100\n",
            "32/32 [==============================] - 0s 3ms/step - loss: 0.3427 - accuracy: 0.8679 - val_loss: 0.3496 - val_accuracy: 0.8630\n",
            "Epoch 57/100\n",
            "32/32 [==============================] - 0s 3ms/step - loss: 0.3296 - accuracy: 0.8694 - val_loss: 0.3478 - val_accuracy: 0.8721\n",
            "Epoch 58/100\n",
            "32/32 [==============================] - 0s 2ms/step - loss: 0.3285 - accuracy: 0.8782 - val_loss: 0.3455 - val_accuracy: 0.8721\n",
            "Epoch 59/100\n",
            "32/32 [==============================] - 0s 3ms/step - loss: 0.3356 - accuracy: 0.8557 - val_loss: 0.3431 - val_accuracy: 0.8676\n",
            "Epoch 60/100\n",
            "32/32 [==============================] - 0s 3ms/step - loss: 0.3013 - accuracy: 0.8817 - val_loss: 0.3413 - val_accuracy: 0.8721\n",
            "Epoch 61/100\n",
            "32/32 [==============================] - 0s 3ms/step - loss: 0.3319 - accuracy: 0.8702 - val_loss: 0.3395 - val_accuracy: 0.8721\n",
            "Epoch 62/100\n",
            "32/32 [==============================] - 0s 3ms/step - loss: 0.3215 - accuracy: 0.8702 - val_loss: 0.3380 - val_accuracy: 0.8721\n",
            "Epoch 63/100\n",
            "32/32 [==============================] - 0s 3ms/step - loss: 0.3436 - accuracy: 0.8732 - val_loss: 0.3369 - val_accuracy: 0.8721\n",
            "Epoch 64/100\n",
            "32/32 [==============================] - 0s 3ms/step - loss: 0.3372 - accuracy: 0.8697 - val_loss: 0.3338 - val_accuracy: 0.8630\n",
            "Epoch 65/100\n",
            "32/32 [==============================] - 0s 3ms/step - loss: 0.3124 - accuracy: 0.8760 - val_loss: 0.3329 - val_accuracy: 0.8721\n",
            "Epoch 66/100\n",
            "32/32 [==============================] - 0s 3ms/step - loss: 0.3155 - accuracy: 0.8793 - val_loss: 0.3306 - val_accuracy: 0.8630\n",
            "Epoch 67/100\n",
            "32/32 [==============================] - 0s 3ms/step - loss: 0.3309 - accuracy: 0.8715 - val_loss: 0.3295 - val_accuracy: 0.8630\n",
            "Epoch 68/100\n",
            "32/32 [==============================] - 0s 3ms/step - loss: 0.3365 - accuracy: 0.8687 - val_loss: 0.3276 - val_accuracy: 0.8630\n",
            "Epoch 69/100\n",
            "32/32 [==============================] - 0s 2ms/step - loss: 0.3149 - accuracy: 0.8719 - val_loss: 0.3271 - val_accuracy: 0.8721\n",
            "Epoch 70/100\n",
            "32/32 [==============================] - 0s 2ms/step - loss: 0.3024 - accuracy: 0.8844 - val_loss: 0.3258 - val_accuracy: 0.8721\n",
            "Epoch 71/100\n",
            "32/32 [==============================] - 0s 3ms/step - loss: 0.3082 - accuracy: 0.8889 - val_loss: 0.3232 - val_accuracy: 0.8676\n",
            "Epoch 72/100\n",
            "32/32 [==============================] - 0s 3ms/step - loss: 0.3144 - accuracy: 0.8715 - val_loss: 0.3220 - val_accuracy: 0.8630\n",
            "Epoch 73/100\n",
            "32/32 [==============================] - 0s 3ms/step - loss: 0.3261 - accuracy: 0.8734 - val_loss: 0.3211 - val_accuracy: 0.8630\n",
            "Epoch 74/100\n",
            "32/32 [==============================] - 0s 3ms/step - loss: 0.2821 - accuracy: 0.8934 - val_loss: 0.3194 - val_accuracy: 0.8676\n",
            "Epoch 75/100\n",
            "32/32 [==============================] - 0s 3ms/step - loss: 0.2915 - accuracy: 0.8874 - val_loss: 0.3183 - val_accuracy: 0.8676\n",
            "Epoch 76/100\n",
            "32/32 [==============================] - 0s 3ms/step - loss: 0.2900 - accuracy: 0.8823 - val_loss: 0.3171 - val_accuracy: 0.8630\n",
            "Epoch 77/100\n",
            "32/32 [==============================] - 0s 3ms/step - loss: 0.2817 - accuracy: 0.8867 - val_loss: 0.3158 - val_accuracy: 0.8676\n",
            "Epoch 78/100\n",
            "32/32 [==============================] - 0s 3ms/step - loss: 0.2932 - accuracy: 0.8901 - val_loss: 0.3148 - val_accuracy: 0.8676\n",
            "Epoch 79/100\n",
            "32/32 [==============================] - 0s 3ms/step - loss: 0.3068 - accuracy: 0.8791 - val_loss: 0.3144 - val_accuracy: 0.8721\n",
            "Epoch 80/100\n",
            "32/32 [==============================] - 0s 3ms/step - loss: 0.2966 - accuracy: 0.8929 - val_loss: 0.3126 - val_accuracy: 0.8721\n",
            "Epoch 81/100\n",
            "32/32 [==============================] - 0s 3ms/step - loss: 0.2851 - accuracy: 0.8868 - val_loss: 0.3117 - val_accuracy: 0.8721\n",
            "Epoch 82/100\n",
            "32/32 [==============================] - 0s 3ms/step - loss: 0.2883 - accuracy: 0.8804 - val_loss: 0.3110 - val_accuracy: 0.8721\n",
            "Epoch 83/100\n",
            "32/32 [==============================] - 0s 3ms/step - loss: 0.2771 - accuracy: 0.8991 - val_loss: 0.3097 - val_accuracy: 0.8721\n",
            "Epoch 84/100\n",
            "32/32 [==============================] - 0s 3ms/step - loss: 0.2993 - accuracy: 0.8718 - val_loss: 0.3088 - val_accuracy: 0.8721\n",
            "Epoch 85/100\n",
            "32/32 [==============================] - 0s 3ms/step - loss: 0.2964 - accuracy: 0.8840 - val_loss: 0.3079 - val_accuracy: 0.8767\n",
            "Epoch 86/100\n",
            "32/32 [==============================] - 0s 3ms/step - loss: 0.2944 - accuracy: 0.8755 - val_loss: 0.3079 - val_accuracy: 0.8767\n",
            "Epoch 87/100\n",
            "32/32 [==============================] - 0s 3ms/step - loss: 0.2943 - accuracy: 0.8858 - val_loss: 0.3064 - val_accuracy: 0.8721\n",
            "Epoch 88/100\n",
            "32/32 [==============================] - 0s 3ms/step - loss: 0.3276 - accuracy: 0.8773 - val_loss: 0.3053 - val_accuracy: 0.8767\n",
            "Epoch 89/100\n",
            "32/32 [==============================] - 0s 3ms/step - loss: 0.3174 - accuracy: 0.8669 - val_loss: 0.3052 - val_accuracy: 0.8767\n",
            "Epoch 90/100\n",
            "32/32 [==============================] - 0s 3ms/step - loss: 0.2821 - accuracy: 0.8762 - val_loss: 0.3044 - val_accuracy: 0.8767\n",
            "Epoch 91/100\n",
            "32/32 [==============================] - 0s 3ms/step - loss: 0.2994 - accuracy: 0.8831 - val_loss: 0.3030 - val_accuracy: 0.8813\n",
            "Epoch 92/100\n",
            "32/32 [==============================] - 0s 3ms/step - loss: 0.3048 - accuracy: 0.8732 - val_loss: 0.3020 - val_accuracy: 0.8813\n",
            "Epoch 93/100\n",
            "32/32 [==============================] - 0s 2ms/step - loss: 0.3181 - accuracy: 0.8627 - val_loss: 0.3014 - val_accuracy: 0.8813\n",
            "Epoch 94/100\n",
            "32/32 [==============================] - 0s 3ms/step - loss: 0.2788 - accuracy: 0.8886 - val_loss: 0.3009 - val_accuracy: 0.8767\n",
            "Epoch 95/100\n",
            "32/32 [==============================] - 0s 3ms/step - loss: 0.2902 - accuracy: 0.8743 - val_loss: 0.3007 - val_accuracy: 0.8813\n",
            "Epoch 96/100\n",
            "32/32 [==============================] - 0s 3ms/step - loss: 0.2815 - accuracy: 0.8782 - val_loss: 0.2993 - val_accuracy: 0.8767\n",
            "Epoch 97/100\n",
            "32/32 [==============================] - 0s 3ms/step - loss: 0.3092 - accuracy: 0.8775 - val_loss: 0.2983 - val_accuracy: 0.8813\n",
            "Epoch 98/100\n",
            "32/32 [==============================] - 0s 3ms/step - loss: 0.3303 - accuracy: 0.8662 - val_loss: 0.2989 - val_accuracy: 0.8813\n",
            "Epoch 99/100\n",
            "32/32 [==============================] - 0s 3ms/step - loss: 0.2790 - accuracy: 0.8824 - val_loss: 0.2969 - val_accuracy: 0.8813\n",
            "Epoch 100/100\n",
            "32/32 [==============================] - 0s 2ms/step - loss: 0.2770 - accuracy: 0.8802 - val_loss: 0.2975 - val_accuracy: 0.8813\n"
          ],
          "name": "stdout"
        }
      ]
    },
    {
      "cell_type": "code",
      "metadata": {
        "colab": {
          "base_uri": "https://localhost:8080/"
        },
        "id": "2Q-ybQkn6ji5",
        "outputId": "7302d517-4f9b-41db-b73b-b5eae75475a0"
      },
      "source": [
        "# original accuracy\n",
        "model.evaluate(X_test, Y_test)[1]\n"
      ],
      "execution_count": 11,
      "outputs": [
        {
          "output_type": "stream",
          "text": [
            "7/7 [==============================] - 0s 2ms/step - loss: 0.2588 - accuracy: 0.8995\n"
          ],
          "name": "stdout"
        },
        {
          "output_type": "execute_result",
          "data": {
            "text/plain": [
              "0.8995434045791626"
            ]
          },
          "metadata": {
            "tags": []
          },
          "execution_count": 11
        }
      ]
    },
    {
      "cell_type": "markdown",
      "metadata": {
        "id": "SImfOE_66nMm"
      },
      "source": [
        "important: visualizing loss and accuracy --> how can we improve our model?"
      ]
    },
    {
      "cell_type": "code",
      "metadata": {
        "colab": {
          "base_uri": "https://localhost:8080/",
          "height": 295
        },
        "id": "XhuWG6vj6qzg",
        "outputId": "4e0daa04-0f95-4034-8549-b07bc9517a2d"
      },
      "source": [
        "import matplotlib.pyplot as plt\n",
        "\n",
        "plt.plot(hist.history['loss'])\n",
        "plt.plot(hist.history['val_loss'])\n",
        "plt.title('Model loss')\n",
        "plt.ylabel('Loss')\n",
        "plt.xlabel('Epoch')\n",
        "plt.legend(['Train', 'Val'], loc='upper right')\n",
        "plt.show()\n"
      ],
      "execution_count": 12,
      "outputs": [
        {
          "output_type": "display_data",
          "data": {
            "image/png": "[encoded data removed]",
            "text/plain": [
              "<Figure size 432x288 with 1 Axes>"
            ]
          },
          "metadata": {
            "tags": [],
            "needs_background": "light"
          }
        }
      ]
    },
    {
      "cell_type": "code",
      "metadata": {
        "colab": {
          "base_uri": "https://localhost:8080/",
          "height": 295
        },
        "id": "3H4yAgwT7S4G",
        "outputId": "de50cca5-3c90-4cf7-bd2b-014e33c8a71b"
      },
      "source": [
        "plt.plot(hist.history['accuracy'])\n",
        "plt.plot(hist.history['val_accuracy'])\n",
        "plt.title('Model accuracy')\n",
        "plt.ylabel('Accuracy')\n",
        "plt.xlabel('Epoch')\n",
        "plt.legend(['Train', 'Val'], loc='lower right')\n",
        "plt.show()\n"
      ],
      "execution_count": 13,
      "outputs": [
        {
          "output_type": "display_data",
          "data": {
            "image/png": "[encoded data removed]",
            "text/plain": [
              "<Figure size 432x288 with 1 Axes>"
            ]
          },
          "metadata": {
            "tags": [],
            "needs_background": "light"
          }
        }
      ]
    },
    {
      "cell_type": "markdown",
      "metadata": {
        "id": "qTgvoDDi8ROL"
      },
      "source": [
        "addressing overfitting: add L2 regularization (add cost with regards to squared value of parameters)\n"
      ]
    },
    {
      "cell_type": "code",
      "metadata": {
        "id": "lYiBADTv8TnS"
      },
      "source": [
        "from keras.layers import Dropout\n",
        "from keras import regularizers\n",
        "\n",
        "model_3 = Sequential([\n",
        "    Dense(1000, activation='relu', kernel_regularizer=regularizers.l2(0.01), input_shape=(10,)),\n",
        "    Dropout(0.3),\n",
        "    Dense(1000, activation='relu', kernel_regularizer=regularizers.l2(0.01)),\n",
        "    Dropout(0.3),\n",
        "    Dense(1000, activation='relu', kernel_regularizer=regularizers.l2(0.01)),\n",
        "    Dropout(0.3),\n",
        "    Dense(1000, activation='relu', kernel_regularizer=regularizers.l2(0.01)),\n",
        "    Dropout(0.3),\n",
        "    Dense(1, activation='sigmoid', kernel_regularizer=regularizers.l2(0.01)),\n",
        "])\n"
      ],
      "execution_count": 15,
      "outputs": []
    },
    {
      "cell_type": "code",
      "metadata": {
        "colab": {
          "base_uri": "https://localhost:8080/"
        },
        "id": "IkEx4lHt8emu",
        "outputId": "ce917fba-f5e9-4bbf-cb53-e9693d6ac055"
      },
      "source": [
        "model_3.compile(optimizer='adam',\n",
        "              loss='binary_crossentropy',\n",
        "              metrics=['accuracy'])\n",
        "\n",
        "hist_3 = model_3.fit(X_train, Y_train,\n",
        "          batch_size=32, epochs=100,\n",
        "          validation_data=(X_val, Y_val))\n"
      ],
      "execution_count": 16,
      "outputs": [
        {
          "output_type": "stream",
          "text": [
            "Epoch 1/100\n",
            "32/32 [==============================] - 3s 57ms/step - loss: 21.1407 - accuracy: 0.5685 - val_loss: 3.9344 - val_accuracy: 0.7397\n",
            "Epoch 2/100\n",
            "32/32 [==============================] - 2s 52ms/step - loss: 2.5170 - accuracy: 0.7761 - val_loss: 0.6705 - val_accuracy: 0.8584\n",
            "Epoch 3/100\n",
            "32/32 [==============================] - 2s 51ms/step - loss: 0.5833 - accuracy: 0.8773 - val_loss: 0.5245 - val_accuracy: 0.8584\n",
            "Epoch 4/100\n",
            "32/32 [==============================] - 2s 52ms/step - loss: 0.5163 - accuracy: 0.8737 - val_loss: 0.4848 - val_accuracy: 0.8813\n",
            "Epoch 5/100\n",
            "32/32 [==============================] - 2s 54ms/step - loss: 0.5153 - accuracy: 0.8505 - val_loss: 0.5169 - val_accuracy: 0.8447\n",
            "Epoch 6/100\n",
            "32/32 [==============================] - 2s 50ms/step - loss: 0.4987 - accuracy: 0.8602 - val_loss: 0.4966 - val_accuracy: 0.8584\n",
            "Epoch 7/100\n",
            "32/32 [==============================] - 2s 50ms/step - loss: 0.4730 - accuracy: 0.8694 - val_loss: 0.4666 - val_accuracy: 0.8813\n",
            "Epoch 8/100\n",
            "32/32 [==============================] - 2s 50ms/step - loss: 0.4728 - accuracy: 0.8686 - val_loss: 0.4552 - val_accuracy: 0.8858\n",
            "Epoch 9/100\n",
            "32/32 [==============================] - 2s 50ms/step - loss: 0.5020 - accuracy: 0.8558 - val_loss: 0.4539 - val_accuracy: 0.8813\n",
            "Epoch 10/100\n",
            "32/32 [==============================] - 2s 47ms/step - loss: 0.4528 - accuracy: 0.8788 - val_loss: 0.4580 - val_accuracy: 0.8858\n",
            "Epoch 11/100\n",
            "32/32 [==============================] - 2s 48ms/step - loss: 0.4685 - accuracy: 0.8788 - val_loss: 0.4455 - val_accuracy: 0.8950\n",
            "Epoch 12/100\n",
            "32/32 [==============================] - 2s 48ms/step - loss: 0.4426 - accuracy: 0.8824 - val_loss: 0.4651 - val_accuracy: 0.8904\n",
            "Epoch 13/100\n",
            "32/32 [==============================] - 2s 50ms/step - loss: 0.4549 - accuracy: 0.8657 - val_loss: 0.4450 - val_accuracy: 0.8995\n",
            "Epoch 14/100\n",
            "32/32 [==============================] - 2s 50ms/step - loss: 0.4438 - accuracy: 0.8853 - val_loss: 0.4564 - val_accuracy: 0.8767\n",
            "Epoch 15/100\n",
            "32/32 [==============================] - 2s 50ms/step - loss: 0.4527 - accuracy: 0.8768 - val_loss: 0.4520 - val_accuracy: 0.8767\n",
            "Epoch 16/100\n",
            "32/32 [==============================] - 2s 50ms/step - loss: 0.4674 - accuracy: 0.8699 - val_loss: 0.4393 - val_accuracy: 0.8858\n",
            "Epoch 17/100\n",
            "32/32 [==============================] - 2s 51ms/step - loss: 0.4324 - accuracy: 0.8773 - val_loss: 0.5871 - val_accuracy: 0.7580\n",
            "Epoch 18/100\n",
            "32/32 [==============================] - 2s 50ms/step - loss: 0.5150 - accuracy: 0.8415 - val_loss: 0.4407 - val_accuracy: 0.8904\n",
            "Epoch 19/100\n",
            "32/32 [==============================] - 2s 50ms/step - loss: 0.4323 - accuracy: 0.8812 - val_loss: 0.4338 - val_accuracy: 0.8858\n",
            "Epoch 20/100\n",
            "32/32 [==============================] - 2s 49ms/step - loss: 0.4055 - accuracy: 0.9033 - val_loss: 0.4398 - val_accuracy: 0.8995\n",
            "Epoch 21/100\n",
            "32/32 [==============================] - 2s 50ms/step - loss: 0.4557 - accuracy: 0.8746 - val_loss: 0.4497 - val_accuracy: 0.8630\n",
            "Epoch 22/100\n",
            "32/32 [==============================] - 2s 50ms/step - loss: 0.4675 - accuracy: 0.8781 - val_loss: 0.4395 - val_accuracy: 0.8858\n",
            "Epoch 23/100\n",
            "32/32 [==============================] - 2s 49ms/step - loss: 0.4837 - accuracy: 0.8606 - val_loss: 0.4423 - val_accuracy: 0.8995\n",
            "Epoch 24/100\n",
            "32/32 [==============================] - 2s 51ms/step - loss: 0.4922 - accuracy: 0.8671 - val_loss: 0.4338 - val_accuracy: 0.8904\n",
            "Epoch 25/100\n",
            "32/32 [==============================] - 2s 50ms/step - loss: 0.4581 - accuracy: 0.8590 - val_loss: 0.4603 - val_accuracy: 0.8676\n",
            "Epoch 26/100\n",
            "32/32 [==============================] - 2s 49ms/step - loss: 0.4299 - accuracy: 0.8899 - val_loss: 0.4314 - val_accuracy: 0.8858\n",
            "Epoch 27/100\n",
            "32/32 [==============================] - 2s 48ms/step - loss: 0.4361 - accuracy: 0.8705 - val_loss: 0.4976 - val_accuracy: 0.8402\n",
            "Epoch 28/100\n",
            "32/32 [==============================] - 2s 50ms/step - loss: 0.5013 - accuracy: 0.8504 - val_loss: 0.4318 - val_accuracy: 0.8950\n",
            "Epoch 29/100\n",
            "32/32 [==============================] - 2s 50ms/step - loss: 0.4313 - accuracy: 0.8853 - val_loss: 0.4301 - val_accuracy: 0.8858\n",
            "Epoch 30/100\n",
            "32/32 [==============================] - 2s 50ms/step - loss: 0.4246 - accuracy: 0.8814 - val_loss: 0.4304 - val_accuracy: 0.8950\n",
            "Epoch 31/100\n",
            "32/32 [==============================] - 2s 50ms/step - loss: 0.4430 - accuracy: 0.8703 - val_loss: 0.4468 - val_accuracy: 0.8721\n",
            "Epoch 32/100\n",
            "32/32 [==============================] - 2s 51ms/step - loss: 0.4448 - accuracy: 0.8839 - val_loss: 0.5126 - val_accuracy: 0.8356\n",
            "Epoch 33/100\n",
            "32/32 [==============================] - 2s 51ms/step - loss: 0.4742 - accuracy: 0.8638 - val_loss: 0.4349 - val_accuracy: 0.8767\n",
            "Epoch 34/100\n",
            "32/32 [==============================] - 2s 50ms/step - loss: 0.4200 - accuracy: 0.8895 - val_loss: 0.4298 - val_accuracy: 0.8858\n",
            "Epoch 35/100\n",
            "32/32 [==============================] - 2s 50ms/step - loss: 0.4529 - accuracy: 0.8747 - val_loss: 0.4374 - val_accuracy: 0.8858\n",
            "Epoch 36/100\n",
            "32/32 [==============================] - 2s 49ms/step - loss: 0.4740 - accuracy: 0.8642 - val_loss: 0.4536 - val_accuracy: 0.8676\n",
            "Epoch 37/100\n",
            "32/32 [==============================] - 2s 51ms/step - loss: 0.4659 - accuracy: 0.8539 - val_loss: 0.4304 - val_accuracy: 0.8950\n",
            "Epoch 38/100\n",
            "32/32 [==============================] - 2s 50ms/step - loss: 0.4303 - accuracy: 0.8794 - val_loss: 0.5048 - val_accuracy: 0.8356\n",
            "Epoch 39/100\n",
            "32/32 [==============================] - 2s 49ms/step - loss: 0.4587 - accuracy: 0.8683 - val_loss: 0.4295 - val_accuracy: 0.8904\n",
            "Epoch 40/100\n",
            "32/32 [==============================] - 2s 51ms/step - loss: 0.4219 - accuracy: 0.8830 - val_loss: 0.4706 - val_accuracy: 0.8721\n",
            "Epoch 41/100\n",
            "32/32 [==============================] - 2s 51ms/step - loss: 0.4745 - accuracy: 0.8624 - val_loss: 0.4328 - val_accuracy: 0.8904\n",
            "Epoch 42/100\n",
            "32/32 [==============================] - 2s 50ms/step - loss: 0.4187 - accuracy: 0.8932 - val_loss: 0.4301 - val_accuracy: 0.8858\n",
            "Epoch 43/100\n",
            "32/32 [==============================] - 2s 50ms/step - loss: 0.4412 - accuracy: 0.8651 - val_loss: 0.4252 - val_accuracy: 0.8950\n",
            "Epoch 44/100\n",
            "32/32 [==============================] - 2s 51ms/step - loss: 0.4293 - accuracy: 0.8924 - val_loss: 0.4492 - val_accuracy: 0.8858\n",
            "Epoch 45/100\n",
            "32/32 [==============================] - 2s 50ms/step - loss: 0.4684 - accuracy: 0.8620 - val_loss: 0.4253 - val_accuracy: 0.8858\n",
            "Epoch 46/100\n",
            "32/32 [==============================] - 2s 53ms/step - loss: 0.4530 - accuracy: 0.8854 - val_loss: 0.4305 - val_accuracy: 0.8721\n",
            "Epoch 47/100\n",
            "32/32 [==============================] - 2s 52ms/step - loss: 0.4288 - accuracy: 0.8828 - val_loss: 0.4297 - val_accuracy: 0.8950\n",
            "Epoch 48/100\n",
            "32/32 [==============================] - 2s 49ms/step - loss: 0.4416 - accuracy: 0.8720 - val_loss: 0.4420 - val_accuracy: 0.8858\n",
            "Epoch 49/100\n",
            "32/32 [==============================] - 2s 49ms/step - loss: 0.4151 - accuracy: 0.8929 - val_loss: 0.4254 - val_accuracy: 0.8858\n",
            "Epoch 50/100\n",
            "32/32 [==============================] - 2s 51ms/step - loss: 0.4458 - accuracy: 0.8621 - val_loss: 0.4267 - val_accuracy: 0.8904\n",
            "Epoch 51/100\n",
            "32/32 [==============================] - 2s 50ms/step - loss: 0.4415 - accuracy: 0.8819 - val_loss: 0.4236 - val_accuracy: 0.8904\n",
            "Epoch 52/100\n",
            "32/32 [==============================] - 2s 50ms/step - loss: 0.4317 - accuracy: 0.8744 - val_loss: 0.4290 - val_accuracy: 0.8858\n",
            "Epoch 53/100\n",
            "32/32 [==============================] - 2s 50ms/step - loss: 0.4100 - accuracy: 0.8887 - val_loss: 0.4246 - val_accuracy: 0.8858\n",
            "Epoch 54/100\n",
            "32/32 [==============================] - 2s 51ms/step - loss: 0.4318 - accuracy: 0.8676 - val_loss: 0.4648 - val_accuracy: 0.8539\n",
            "Epoch 55/100\n",
            "32/32 [==============================] - 2s 51ms/step - loss: 0.4745 - accuracy: 0.8697 - val_loss: 0.4357 - val_accuracy: 0.8767\n",
            "Epoch 56/100\n",
            "32/32 [==============================] - 2s 49ms/step - loss: 0.4393 - accuracy: 0.8688 - val_loss: 0.4445 - val_accuracy: 0.8721\n",
            "Epoch 57/100\n",
            "32/32 [==============================] - 2s 50ms/step - loss: 0.4506 - accuracy: 0.8788 - val_loss: 0.4236 - val_accuracy: 0.8858\n",
            "Epoch 58/100\n",
            "32/32 [==============================] - 2s 49ms/step - loss: 0.4410 - accuracy: 0.8623 - val_loss: 0.5278 - val_accuracy: 0.8265\n",
            "Epoch 59/100\n",
            "32/32 [==============================] - 2s 48ms/step - loss: 0.4620 - accuracy: 0.8726 - val_loss: 0.4395 - val_accuracy: 0.8721\n",
            "Epoch 60/100\n",
            "32/32 [==============================] - 2s 49ms/step - loss: 0.4415 - accuracy: 0.8866 - val_loss: 0.4254 - val_accuracy: 0.8904\n",
            "Epoch 61/100\n",
            "32/32 [==============================] - 2s 49ms/step - loss: 0.4621 - accuracy: 0.8832 - val_loss: 0.4229 - val_accuracy: 0.8904\n",
            "Epoch 62/100\n",
            "32/32 [==============================] - 2s 49ms/step - loss: 0.4273 - accuracy: 0.8741 - val_loss: 0.4257 - val_accuracy: 0.8904\n",
            "Epoch 63/100\n",
            "32/32 [==============================] - 2s 50ms/step - loss: 0.4543 - accuracy: 0.8707 - val_loss: 0.4222 - val_accuracy: 0.8904\n",
            "Epoch 64/100\n",
            "32/32 [==============================] - 2s 48ms/step - loss: 0.4344 - accuracy: 0.8737 - val_loss: 0.4232 - val_accuracy: 0.8858\n",
            "Epoch 65/100\n",
            "32/32 [==============================] - 2s 49ms/step - loss: 0.4405 - accuracy: 0.8700 - val_loss: 0.4272 - val_accuracy: 0.8904\n",
            "Epoch 66/100\n",
            "32/32 [==============================] - 2s 49ms/step - loss: 0.4198 - accuracy: 0.8859 - val_loss: 0.4252 - val_accuracy: 0.8950\n",
            "Epoch 67/100\n",
            "32/32 [==============================] - 2s 49ms/step - loss: 0.4784 - accuracy: 0.8641 - val_loss: 0.4357 - val_accuracy: 0.8721\n",
            "Epoch 68/100\n",
            "32/32 [==============================] - 2s 49ms/step - loss: 0.4548 - accuracy: 0.8706 - val_loss: 0.4473 - val_accuracy: 0.8676\n",
            "Epoch 69/100\n",
            "32/32 [==============================] - 2s 51ms/step - loss: 0.4691 - accuracy: 0.8559 - val_loss: 0.4323 - val_accuracy: 0.8904\n",
            "Epoch 70/100\n",
            "32/32 [==============================] - 2s 50ms/step - loss: 0.4318 - accuracy: 0.8949 - val_loss: 0.4273 - val_accuracy: 0.8904\n",
            "Epoch 71/100\n",
            "32/32 [==============================] - 2s 50ms/step - loss: 0.4677 - accuracy: 0.8584 - val_loss: 0.4228 - val_accuracy: 0.8858\n",
            "Epoch 72/100\n",
            "32/32 [==============================] - 2s 51ms/step - loss: 0.4136 - accuracy: 0.8967 - val_loss: 0.4255 - val_accuracy: 0.8858\n",
            "Epoch 73/100\n",
            "32/32 [==============================] - 2s 50ms/step - loss: 0.4310 - accuracy: 0.9002 - val_loss: 0.4406 - val_accuracy: 0.8676\n",
            "Epoch 74/100\n",
            "32/32 [==============================] - 2s 50ms/step - loss: 0.4463 - accuracy: 0.8847 - val_loss: 0.4673 - val_accuracy: 0.8493\n",
            "Epoch 75/100\n",
            "32/32 [==============================] - 2s 50ms/step - loss: 0.4281 - accuracy: 0.8725 - val_loss: 0.4294 - val_accuracy: 0.8995\n",
            "Epoch 76/100\n",
            "32/32 [==============================] - 2s 52ms/step - loss: 0.4658 - accuracy: 0.8591 - val_loss: 0.4576 - val_accuracy: 0.8676\n",
            "Epoch 77/100\n",
            "32/32 [==============================] - 2s 51ms/step - loss: 0.4138 - accuracy: 0.8924 - val_loss: 0.4407 - val_accuracy: 0.8858\n",
            "Epoch 78/100\n",
            "32/32 [==============================] - 2s 50ms/step - loss: 0.4219 - accuracy: 0.8891 - val_loss: 0.4242 - val_accuracy: 0.8813\n",
            "Epoch 79/100\n",
            "32/32 [==============================] - 2s 52ms/step - loss: 0.4270 - accuracy: 0.8795 - val_loss: 0.4300 - val_accuracy: 0.8995\n",
            "Epoch 80/100\n",
            "32/32 [==============================] - 2s 51ms/step - loss: 0.4419 - accuracy: 0.8803 - val_loss: 0.4258 - val_accuracy: 0.8995\n",
            "Epoch 81/100\n",
            "32/32 [==============================] - 2s 49ms/step - loss: 0.4322 - accuracy: 0.8772 - val_loss: 0.4308 - val_accuracy: 0.8950\n",
            "Epoch 82/100\n",
            "32/32 [==============================] - 2s 49ms/step - loss: 0.4290 - accuracy: 0.8856 - val_loss: 0.4306 - val_accuracy: 0.8904\n",
            "Epoch 83/100\n",
            "32/32 [==============================] - 2s 50ms/step - loss: 0.4276 - accuracy: 0.8856 - val_loss: 0.4264 - val_accuracy: 0.8858\n",
            "Epoch 84/100\n",
            "32/32 [==============================] - 2s 50ms/step - loss: 0.4422 - accuracy: 0.8632 - val_loss: 0.4328 - val_accuracy: 0.8676\n",
            "Epoch 85/100\n",
            "32/32 [==============================] - 2s 50ms/step - loss: 0.4775 - accuracy: 0.8593 - val_loss: 0.4226 - val_accuracy: 0.8858\n",
            "Epoch 86/100\n",
            "32/32 [==============================] - 2s 49ms/step - loss: 0.4134 - accuracy: 0.8921 - val_loss: 0.4468 - val_accuracy: 0.8676\n",
            "Epoch 87/100\n",
            "32/32 [==============================] - 2s 50ms/step - loss: 0.4314 - accuracy: 0.8767 - val_loss: 0.4305 - val_accuracy: 0.8767\n",
            "Epoch 88/100\n",
            "32/32 [==============================] - 2s 50ms/step - loss: 0.4151 - accuracy: 0.8930 - val_loss: 0.4577 - val_accuracy: 0.8584\n",
            "Epoch 89/100\n",
            "32/32 [==============================] - 2s 51ms/step - loss: 0.4783 - accuracy: 0.8610 - val_loss: 0.4223 - val_accuracy: 0.8858\n",
            "Epoch 90/100\n",
            "32/32 [==============================] - 2s 50ms/step - loss: 0.4158 - accuracy: 0.8968 - val_loss: 0.4710 - val_accuracy: 0.8676\n",
            "Epoch 91/100\n",
            "32/32 [==============================] - 2s 51ms/step - loss: 0.4290 - accuracy: 0.8816 - val_loss: 0.4393 - val_accuracy: 0.8721\n",
            "Epoch 92/100\n",
            "32/32 [==============================] - 2s 51ms/step - loss: 0.4554 - accuracy: 0.8656 - val_loss: 0.4537 - val_accuracy: 0.8630\n",
            "Epoch 93/100\n",
            "32/32 [==============================] - 2s 51ms/step - loss: 0.4245 - accuracy: 0.8905 - val_loss: 0.4553 - val_accuracy: 0.8630\n",
            "Epoch 94/100\n",
            "32/32 [==============================] - 2s 50ms/step - loss: 0.4309 - accuracy: 0.8824 - val_loss: 0.4351 - val_accuracy: 0.8858\n",
            "Epoch 95/100\n",
            "32/32 [==============================] - 2s 51ms/step - loss: 0.4157 - accuracy: 0.8932 - val_loss: 0.4468 - val_accuracy: 0.8676\n",
            "Epoch 96/100\n",
            "32/32 [==============================] - 2s 51ms/step - loss: 0.4078 - accuracy: 0.8890 - val_loss: 0.4319 - val_accuracy: 0.8904\n",
            "Epoch 97/100\n",
            "32/32 [==============================] - 2s 53ms/step - loss: 0.4297 - accuracy: 0.8894 - val_loss: 0.4320 - val_accuracy: 0.8950\n",
            "Epoch 98/100\n",
            "32/32 [==============================] - 2s 53ms/step - loss: 0.4432 - accuracy: 0.8898 - val_loss: 0.4239 - val_accuracy: 0.8904\n",
            "Epoch 99/100\n",
            "32/32 [==============================] - 2s 50ms/step - loss: 0.4816 - accuracy: 0.8650 - val_loss: 0.4446 - val_accuracy: 0.8676\n",
            "Epoch 100/100\n",
            "32/32 [==============================] - 2s 49ms/step - loss: 0.4306 - accuracy: 0.8907 - val_loss: 0.4357 - val_accuracy: 0.8858\n"
          ],
          "name": "stdout"
        }
      ]
    },
    {
      "cell_type": "code",
      "metadata": {
        "colab": {
          "base_uri": "https://localhost:8080/",
          "height": 295
        },
        "id": "QMwoUVNf9tES",
        "outputId": "d622db63-891f-4fea-8de1-5083e4e69c1a"
      },
      "source": [
        "# visualize loss\n",
        "plt.plot(hist_3.history['loss'])\n",
        "plt.plot(hist_3.history['val_loss'])\n",
        "plt.title('Model loss')\n",
        "plt.ylabel('Loss')\n",
        "plt.xlabel('Epoch')\n",
        "plt.legend(['Train', 'Val'], loc='upper right')\n",
        "plt.ylim(top=1.2, bottom=0)\n",
        "plt.show()\n"
      ],
      "execution_count": 17,
      "outputs": [
        {
          "output_type": "display_data",
          "data": {
            "image/png": "[encoded data removed]",
            "text/plain": [
              "<Figure size 432x288 with 1 Axes>"
            ]
          },
          "metadata": {
            "tags": [],
            "needs_background": "light"
          }
        }
      ]
    },
    {
      "cell_type": "code",
      "metadata": {
        "colab": {
          "base_uri": "https://localhost:8080/",
          "height": 295
        },
        "id": "sWDD4Wka9xcc",
        "outputId": "4426e1ff-1c0c-4568-c4d2-5865992aacce"
      },
      "source": [
        "# visualize accuracy\n",
        "plt.plot(hist_3.history['accuracy'])\n",
        "plt.plot(hist_3.history['val_accuracy'])\n",
        "plt.title('Model accuracy')\n",
        "plt.ylabel('Accuracy')\n",
        "plt.xlabel('Epoch')\n",
        "plt.legend(['Train', 'Val'], loc='lower right')\n",
        "plt.show()\n"
      ],
      "execution_count": 18,
      "outputs": [
        {
          "output_type": "display_data",
          "data": {
            "image/png": "[encoded data removed]",
            "text/plain": [
              "<Figure size 432x288 with 1 Axes>"
            ]
          },
          "metadata": {
            "tags": [],
            "needs_background": "light"
          }
        }
      ]
    },
    {
      "cell_type": "code",
      "metadata": {
        "colab": {
          "base_uri": "https://localhost:8080/"
        },
        "id": "_ICjL7ir94Sp",
        "outputId": "a690a1f8-f6c1-4566-db95-b541f9cd63d7"
      },
      "source": [
        "# accuracy\n",
        "model_3.evaluate(X_test, Y_test)[1]\n"
      ],
      "execution_count": 19,
      "outputs": [
        {
          "output_type": "stream",
          "text": [
            "7/7 [==============================] - 0s 12ms/step - loss: 0.3966 - accuracy: 0.9087\n"
          ],
          "name": "stdout"
        },
        {
          "output_type": "execute_result",
          "data": {
            "text/plain": [
              "0.9086757898330688"
            ]
          },
          "metadata": {
            "tags": []
          },
          "execution_count": 19
        }
      ]
    }
  ]
}