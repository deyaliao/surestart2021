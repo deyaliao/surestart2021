{
  "nbformat": 4,
  "nbformat_minor": 0,
  "metadata": {
    "colab": {
      "name": "houseprices.ipynb",
      "provenance": [],
      "authorship_tag": "ABX9TyMFfX7c1B+Jd2Vi/YxhhMsA",
      "include_colab_link": true
    },
    "kernelspec": {
      "name": "python3",
      "display_name": "Python 3"
    }
  },
  "cells": [
    {
      "cell_type": "markdown",
      "metadata": {
        "id": "view-in-github",
        "colab_type": "text"
      },
      "source": [
        "<a href=\"https://colab.research.google.com/github/deyaliao/surestart2021/blob/main/houseprices.ipynb\" target=\"_parent\"><img src=\"https://colab.research.google.com/assets/colab-badge.svg\" alt=\"Open In Colab\"/></a>"
      ]
    },
    {
      "cell_type": "code",
      "metadata": {
        "id": "RdcuWOHb4EOu"
      },
      "source": [
        "# import all packages\n",
        "\n",
        "import os # accessing directory structure\n",
        "import numpy as np # linear algebra\n",
        "import pandas as pd # data processing, CSV file I/O (e.g. pd.read_csv)\n",
        "import seaborn as sns\n",
        "import matplotlib.pyplot as plt # plotting\n",
        "%matplotlib inline\n"
      ],
      "execution_count": 10,
      "outputs": []
    },
    {
      "cell_type": "code",
      "metadata": {
        "colab": {
          "resources": {
            "http://localhost:8080/nbextensions/google.colab/files.js": {
              "data": "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",
              "ok": true,
              "headers": [
                [
                  "content-type",
                  "application/javascript"
                ]
              ],
              "status": 200,
              "status_text": ""
            }
          },
          "base_uri": "https://localhost:8080/",
          "height": 72
        },
        "id": "XBXAHbCF4ZhU",
        "outputId": "0a1e1cb7-b2f5-4da3-ea82-cd58ad0c83b4"
      },
      "source": [
        "# import data and download\n",
        "from google.colab import files\n",
        "uploaded = files.upload()\n"
      ],
      "execution_count": 1,
      "outputs": [
        {
          "output_type": "display_data",
          "data": {
            "text/html": [
              "\n",
              "     <input type=\"file\" id=\"files-6cdafd4c-8a1e-48d1-95d5-ea001f2b2461\" name=\"files[]\" multiple disabled\n",
              "        style=\"border:none\" />\n",
              "     <output id=\"result-6cdafd4c-8a1e-48d1-95d5-ea001f2b2461\">\n",
              "      Upload widget is only available when the cell has been executed in the\n",
              "      current browser session. Please rerun this cell to enable.\n",
              "      </output>\n",
              "      <script src=\"/nbextensions/google.colab/files.js\"></script> "
            ],
            "text/plain": [
              "<IPython.core.display.HTML object>"
            ]
          },
          "metadata": {
            "tags": []
          }
        },
        {
          "output_type": "stream",
          "text": [
            "Saving housepricedata.csv to housepricedata.csv\n"
          ],
          "name": "stdout"
        }
      ]
    },
    {
      "cell_type": "code",
      "metadata": {
        "colab": {
          "base_uri": "https://localhost:8080/",
          "height": 419
        },
        "id": "cjTleKUw4gMH",
        "outputId": "853516bc-b67d-4297-ca6e-7edf565bb4bb"
      },
      "source": [
        "df = pd.read_csv('housepricedata.csv')\n",
        "df\n"
      ],
      "execution_count": 5,
      "outputs": [
        {
          "output_type": "execute_result",
          "data": {
            "text/html": [
              "<div>\n",
              "<style scoped>\n",
              "    .dataframe tbody tr th:only-of-type {\n",
              "        vertical-align: middle;\n",
              "    }\n",
              "\n",
              "    .dataframe tbody tr th {\n",
              "        vertical-align: top;\n",
              "    }\n",
              "\n",
              "    .dataframe thead th {\n",
              "        text-align: right;\n",
              "    }\n",
              "</style>\n",
              "<table border=\"1\" class=\"dataframe\">\n",
              "  <thead>\n",
              "    <tr style=\"text-align: right;\">\n",
              "      <th></th>\n",
              "      <th>LotArea</th>\n",
              "      <th>OverallQual</th>\n",
              "      <th>OverallCond</th>\n",
              "      <th>TotalBsmtSF</th>\n",
              "      <th>FullBath</th>\n",
              "      <th>HalfBath</th>\n",
              "      <th>BedroomAbvGr</th>\n",
              "      <th>TotRmsAbvGrd</th>\n",
              "      <th>Fireplaces</th>\n",
              "      <th>GarageArea</th>\n",
              "      <th>AboveMedianPrice</th>\n",
              "    </tr>\n",
              "  </thead>\n",
              "  <tbody>\n",
              "    <tr>\n",
              "      <th>0</th>\n",
              "      <td>8450</td>\n",
              "      <td>7</td>\n",
              "      <td>5</td>\n",
              "      <td>856</td>\n",
              "      <td>2</td>\n",
              "      <td>1</td>\n",
              "      <td>3</td>\n",
              "      <td>8</td>\n",
              "      <td>0</td>\n",
              "      <td>548</td>\n",
              "      <td>1</td>\n",
              "    </tr>\n",
              "    <tr>\n",
              "      <th>1</th>\n",
              "      <td>9600</td>\n",
              "      <td>6</td>\n",
              "      <td>8</td>\n",
              "      <td>1262</td>\n",
              "      <td>2</td>\n",
              "      <td>0</td>\n",
              "      <td>3</td>\n",
              "      <td>6</td>\n",
              "      <td>1</td>\n",
              "      <td>460</td>\n",
              "      <td>1</td>\n",
              "    </tr>\n",
              "    <tr>\n",
              "      <th>2</th>\n",
              "      <td>11250</td>\n",
              "      <td>7</td>\n",
              "      <td>5</td>\n",
              "      <td>920</td>\n",
              "      <td>2</td>\n",
              "      <td>1</td>\n",
              "      <td>3</td>\n",
              "      <td>6</td>\n",
              "      <td>1</td>\n",
              "      <td>608</td>\n",
              "      <td>1</td>\n",
              "    </tr>\n",
              "    <tr>\n",
              "      <th>3</th>\n",
              "      <td>9550</td>\n",
              "      <td>7</td>\n",
              "      <td>5</td>\n",
              "      <td>756</td>\n",
              "      <td>1</td>\n",
              "      <td>0</td>\n",
              "      <td>3</td>\n",
              "      <td>7</td>\n",
              "      <td>1</td>\n",
              "      <td>642</td>\n",
              "      <td>0</td>\n",
              "    </tr>\n",
              "    <tr>\n",
              "      <th>4</th>\n",
              "      <td>14260</td>\n",
              "      <td>8</td>\n",
              "      <td>5</td>\n",
              "      <td>1145</td>\n",
              "      <td>2</td>\n",
              "      <td>1</td>\n",
              "      <td>4</td>\n",
              "      <td>9</td>\n",
              "      <td>1</td>\n",
              "      <td>836</td>\n",
              "      <td>1</td>\n",
              "    </tr>\n",
              "    <tr>\n",
              "      <th>...</th>\n",
              "      <td>...</td>\n",
              "      <td>...</td>\n",
              "      <td>...</td>\n",
              "      <td>...</td>\n",
              "      <td>...</td>\n",
              "      <td>...</td>\n",
              "      <td>...</td>\n",
              "      <td>...</td>\n",
              "      <td>...</td>\n",
              "      <td>...</td>\n",
              "      <td>...</td>\n",
              "    </tr>\n",
              "    <tr>\n",
              "      <th>1455</th>\n",
              "      <td>7917</td>\n",
              "      <td>6</td>\n",
              "      <td>5</td>\n",
              "      <td>953</td>\n",
              "      <td>2</td>\n",
              "      <td>1</td>\n",
              "      <td>3</td>\n",
              "      <td>7</td>\n",
              "      <td>1</td>\n",
              "      <td>460</td>\n",
              "      <td>1</td>\n",
              "    </tr>\n",
              "    <tr>\n",
              "      <th>1456</th>\n",
              "      <td>13175</td>\n",
              "      <td>6</td>\n",
              "      <td>6</td>\n",
              "      <td>1542</td>\n",
              "      <td>2</td>\n",
              "      <td>0</td>\n",
              "      <td>3</td>\n",
              "      <td>7</td>\n",
              "      <td>2</td>\n",
              "      <td>500</td>\n",
              "      <td>1</td>\n",
              "    </tr>\n",
              "    <tr>\n",
              "      <th>1457</th>\n",
              "      <td>9042</td>\n",
              "      <td>7</td>\n",
              "      <td>9</td>\n",
              "      <td>1152</td>\n",
              "      <td>2</td>\n",
              "      <td>0</td>\n",
              "      <td>4</td>\n",
              "      <td>9</td>\n",
              "      <td>2</td>\n",
              "      <td>252</td>\n",
              "      <td>1</td>\n",
              "    </tr>\n",
              "    <tr>\n",
              "      <th>1458</th>\n",
              "      <td>9717</td>\n",
              "      <td>5</td>\n",
              "      <td>6</td>\n",
              "      <td>1078</td>\n",
              "      <td>1</td>\n",
              "      <td>0</td>\n",
              "      <td>2</td>\n",
              "      <td>5</td>\n",
              "      <td>0</td>\n",
              "      <td>240</td>\n",
              "      <td>0</td>\n",
              "    </tr>\n",
              "    <tr>\n",
              "      <th>1459</th>\n",
              "      <td>9937</td>\n",
              "      <td>5</td>\n",
              "      <td>6</td>\n",
              "      <td>1256</td>\n",
              "      <td>1</td>\n",
              "      <td>1</td>\n",
              "      <td>3</td>\n",
              "      <td>6</td>\n",
              "      <td>0</td>\n",
              "      <td>276</td>\n",
              "      <td>0</td>\n",
              "    </tr>\n",
              "  </tbody>\n",
              "</table>\n",
              "<p>1460 rows × 11 columns</p>\n",
              "</div>"
            ],
            "text/plain": [
              "      LotArea  OverallQual  ...  GarageArea  AboveMedianPrice\n",
              "0        8450            7  ...         548                 1\n",
              "1        9600            6  ...         460                 1\n",
              "2       11250            7  ...         608                 1\n",
              "3        9550            7  ...         642                 0\n",
              "4       14260            8  ...         836                 1\n",
              "...       ...          ...  ...         ...               ...\n",
              "1455     7917            6  ...         460                 1\n",
              "1456    13175            6  ...         500                 1\n",
              "1457     9042            7  ...         252                 1\n",
              "1458     9717            5  ...         240                 0\n",
              "1459     9937            5  ...         276                 0\n",
              "\n",
              "[1460 rows x 11 columns]"
            ]
          },
          "metadata": {
            "tags": []
          },
          "execution_count": 5
        }
      ]
    },
    {
      "cell_type": "code",
      "metadata": {
        "colab": {
          "base_uri": "https://localhost:8080/"
        },
        "id": "asGsxEyZ4s4y",
        "outputId": "06d1b2c4-71ac-42cc-d988-d2199056a9f9"
      },
      "source": [
        "# convert to arrays\n",
        "dataset = df.values\n",
        "dataset"
      ],
      "execution_count": 7,
      "outputs": [
        {
          "output_type": "execute_result",
          "data": {
            "text/plain": [
              "array([[ 8450,     7,     5, ...,     0,   548,     1],\n",
              "       [ 9600,     6,     8, ...,     1,   460,     1],\n",
              "       [11250,     7,     5, ...,     1,   608,     1],\n",
              "       ...,\n",
              "       [ 9042,     7,     9, ...,     2,   252,     1],\n",
              "       [ 9717,     5,     6, ...,     0,   240,     0],\n",
              "       [ 9937,     5,     6, ...,     0,   276,     0]])"
            ]
          },
          "metadata": {
            "tags": []
          },
          "execution_count": 7
        }
      ]
    },
    {
      "cell_type": "code",
      "metadata": {
        "id": "2VyXDweo5It4"
      },
      "source": [
        "# split all features\n",
        "X = dataset[:,0:10]\n",
        "Y = dataset[:,10]\n"
      ],
      "execution_count": 8,
      "outputs": []
    },
    {
      "cell_type": "code",
      "metadata": {
        "colab": {
          "base_uri": "https://localhost:8080/"
        },
        "id": "Nwtjbhrf5Sfw",
        "outputId": "d9cfa023-c5bd-4a0b-f196-606911acd57f"
      },
      "source": [
        "# data preprocessing\n",
        "from sklearn import preprocessing\n",
        "min_max_scaler = preprocessing.MinMaxScaler()\n",
        "X_scale = min_max_scaler.fit_transform(X)\n",
        "X_scale"
      ],
      "execution_count": 11,
      "outputs": [
        {
          "output_type": "execute_result",
          "data": {
            "text/plain": [
              "array([[0.0334198 , 0.66666667, 0.5       , ..., 0.5       , 0.        ,\n",
              "        0.3864598 ],\n",
              "       [0.03879502, 0.55555556, 0.875     , ..., 0.33333333, 0.33333333,\n",
              "        0.32440056],\n",
              "       [0.04650728, 0.66666667, 0.5       , ..., 0.33333333, 0.33333333,\n",
              "        0.42877292],\n",
              "       ...,\n",
              "       [0.03618687, 0.66666667, 1.        , ..., 0.58333333, 0.66666667,\n",
              "        0.17771509],\n",
              "       [0.03934189, 0.44444444, 0.625     , ..., 0.25      , 0.        ,\n",
              "        0.16925247],\n",
              "       [0.04037019, 0.44444444, 0.625     , ..., 0.33333333, 0.        ,\n",
              "        0.19464034]])"
            ]
          },
          "metadata": {
            "tags": []
          },
          "execution_count": 11
        }
      ]
    },
    {
      "cell_type": "code",
      "metadata": {
        "id": "PK7_cVNz5iId"
      },
      "source": [
        "from sklearn.model_selection import train_test_split\n",
        "X_train, X_val_and_test, Y_train, Y_val_and_test = train_test_split(X_scale, Y, test_size=0.3)\n",
        "X_val, X_test, Y_val, Y_test = train_test_split(X_val_and_test, Y_val_and_test, test_size=0.5)\n"
      ],
      "execution_count": 13,
      "outputs": []
    },
    {
      "cell_type": "markdown",
      "metadata": {
        "id": "5C4Vma8F6IRM"
      },
      "source": [
        "create model itself"
      ]
    },
    {
      "cell_type": "code",
      "metadata": {
        "id": "r2ozv5Uz6Jq_"
      },
      "source": [
        "from keras.models import Sequential\n",
        "from keras.layers import Dense\n",
        "\n",
        "model = Sequential([\n",
        "    Dense(32, activation='relu', input_shape=(10,)),\n",
        "    Dense(32, activation='relu'),\n",
        "    Dense(1, activation='sigmoid'),\n",
        "])\n"
      ],
      "execution_count": 14,
      "outputs": []
    },
    {
      "cell_type": "code",
      "metadata": {
        "colab": {
          "base_uri": "https://localhost:8080/"
        },
        "id": "DC1juLCX6VmZ",
        "outputId": "faf228cf-ba04-4045-afd4-4a1e408f0c82"
      },
      "source": [
        "model.compile(optimizer='sgd',\n",
        "              loss='binary_crossentropy',\n",
        "              metrics=['accuracy'])\n",
        "# train\n",
        "hist = model.fit(X_train, Y_train,\n",
        "          batch_size=32, epochs=100,\n",
        "          validation_data=(X_val, Y_val))"
      ],
      "execution_count": 15,
      "outputs": [
        {
          "output_type": "stream",
          "text": [
            "Epoch 1/100\n",
            "32/32 [==============================] - 1s 9ms/step - loss: 0.6896 - accuracy: 0.5691 - val_loss: 0.6788 - val_accuracy: 0.6712\n",
            "Epoch 2/100\n",
            "32/32 [==============================] - 0s 2ms/step - loss: 0.6788 - accuracy: 0.6857 - val_loss: 0.6726 - val_accuracy: 0.7443\n",
            "Epoch 3/100\n",
            "32/32 [==============================] - 0s 2ms/step - loss: 0.6701 - accuracy: 0.7227 - val_loss: 0.6673 - val_accuracy: 0.7397\n",
            "Epoch 4/100\n",
            "32/32 [==============================] - 0s 2ms/step - loss: 0.6625 - accuracy: 0.7287 - val_loss: 0.6622 - val_accuracy: 0.7580\n",
            "Epoch 5/100\n",
            "32/32 [==============================] - 0s 3ms/step - loss: 0.6594 - accuracy: 0.7246 - val_loss: 0.6572 - val_accuracy: 0.7626\n",
            "Epoch 6/100\n",
            "32/32 [==============================] - 0s 3ms/step - loss: 0.6502 - accuracy: 0.7573 - val_loss: 0.6521 - val_accuracy: 0.7671\n",
            "Epoch 7/100\n",
            "32/32 [==============================] - 0s 3ms/step - loss: 0.6488 - accuracy: 0.7545 - val_loss: 0.6472 - val_accuracy: 0.7717\n",
            "Epoch 8/100\n",
            "32/32 [==============================] - 0s 3ms/step - loss: 0.6427 - accuracy: 0.7659 - val_loss: 0.6421 - val_accuracy: 0.7626\n",
            "Epoch 9/100\n",
            "32/32 [==============================] - 0s 3ms/step - loss: 0.6353 - accuracy: 0.7750 - val_loss: 0.6365 - val_accuracy: 0.7854\n",
            "Epoch 10/100\n",
            "32/32 [==============================] - 0s 2ms/step - loss: 0.6241 - accuracy: 0.8095 - val_loss: 0.6307 - val_accuracy: 0.8037\n",
            "Epoch 11/100\n",
            "32/32 [==============================] - 0s 3ms/step - loss: 0.6263 - accuracy: 0.7820 - val_loss: 0.6247 - val_accuracy: 0.7991\n",
            "Epoch 12/100\n",
            "32/32 [==============================] - 0s 2ms/step - loss: 0.6207 - accuracy: 0.7914 - val_loss: 0.6184 - val_accuracy: 0.7991\n",
            "Epoch 13/100\n",
            "32/32 [==============================] - 0s 3ms/step - loss: 0.6103 - accuracy: 0.8103 - val_loss: 0.6118 - val_accuracy: 0.7991\n",
            "Epoch 14/100\n",
            "32/32 [==============================] - 0s 2ms/step - loss: 0.6046 - accuracy: 0.8055 - val_loss: 0.6044 - val_accuracy: 0.7991\n",
            "Epoch 15/100\n",
            "32/32 [==============================] - 0s 3ms/step - loss: 0.5922 - accuracy: 0.8358 - val_loss: 0.5967 - val_accuracy: 0.7991\n",
            "Epoch 16/100\n",
            "32/32 [==============================] - 0s 3ms/step - loss: 0.5917 - accuracy: 0.8112 - val_loss: 0.5885 - val_accuracy: 0.8128\n",
            "Epoch 17/100\n",
            "32/32 [==============================] - 0s 3ms/step - loss: 0.5747 - accuracy: 0.8499 - val_loss: 0.5800 - val_accuracy: 0.8219\n",
            "Epoch 18/100\n",
            "32/32 [==============================] - 0s 3ms/step - loss: 0.5713 - accuracy: 0.8338 - val_loss: 0.5715 - val_accuracy: 0.8265\n",
            "Epoch 19/100\n",
            "32/32 [==============================] - 0s 2ms/step - loss: 0.5579 - accuracy: 0.8509 - val_loss: 0.5628 - val_accuracy: 0.8402\n",
            "Epoch 20/100\n",
            "32/32 [==============================] - 0s 3ms/step - loss: 0.5506 - accuracy: 0.8498 - val_loss: 0.5545 - val_accuracy: 0.8402\n",
            "Epoch 21/100\n",
            "32/32 [==============================] - 0s 3ms/step - loss: 0.5385 - accuracy: 0.8622 - val_loss: 0.5458 - val_accuracy: 0.8402\n",
            "Epoch 22/100\n",
            "32/32 [==============================] - 0s 3ms/step - loss: 0.5366 - accuracy: 0.8443 - val_loss: 0.5372 - val_accuracy: 0.8447\n",
            "Epoch 23/100\n",
            "32/32 [==============================] - 0s 2ms/step - loss: 0.5221 - accuracy: 0.8665 - val_loss: 0.5288 - val_accuracy: 0.8447\n",
            "Epoch 24/100\n",
            "32/32 [==============================] - 0s 2ms/step - loss: 0.5037 - accuracy: 0.8707 - val_loss: 0.5193 - val_accuracy: 0.8402\n",
            "Epoch 25/100\n",
            "32/32 [==============================] - 0s 2ms/step - loss: 0.4974 - accuracy: 0.8706 - val_loss: 0.5104 - val_accuracy: 0.8265\n",
            "Epoch 26/100\n",
            "32/32 [==============================] - 0s 3ms/step - loss: 0.4889 - accuracy: 0.8733 - val_loss: 0.5016 - val_accuracy: 0.8219\n",
            "Epoch 27/100\n",
            "32/32 [==============================] - 0s 2ms/step - loss: 0.4881 - accuracy: 0.8566 - val_loss: 0.4938 - val_accuracy: 0.8356\n",
            "Epoch 28/100\n",
            "32/32 [==============================] - 0s 3ms/step - loss: 0.4831 - accuracy: 0.8564 - val_loss: 0.4854 - val_accuracy: 0.8311\n",
            "Epoch 29/100\n",
            "32/32 [==============================] - 0s 2ms/step - loss: 0.4612 - accuracy: 0.8643 - val_loss: 0.4764 - val_accuracy: 0.8356\n",
            "Epoch 30/100\n",
            "32/32 [==============================] - 0s 2ms/step - loss: 0.4485 - accuracy: 0.8666 - val_loss: 0.4682 - val_accuracy: 0.8265\n",
            "Epoch 31/100\n",
            "32/32 [==============================] - 0s 3ms/step - loss: 0.4433 - accuracy: 0.8641 - val_loss: 0.4605 - val_accuracy: 0.8311\n",
            "Epoch 32/100\n",
            "32/32 [==============================] - 0s 3ms/step - loss: 0.4255 - accuracy: 0.8826 - val_loss: 0.4537 - val_accuracy: 0.8311\n",
            "Epoch 33/100\n",
            "32/32 [==============================] - 0s 3ms/step - loss: 0.4249 - accuracy: 0.8711 - val_loss: 0.4464 - val_accuracy: 0.8356\n",
            "Epoch 34/100\n",
            "32/32 [==============================] - 0s 3ms/step - loss: 0.4344 - accuracy: 0.8557 - val_loss: 0.4398 - val_accuracy: 0.8311\n",
            "Epoch 35/100\n",
            "32/32 [==============================] - 0s 3ms/step - loss: 0.4154 - accuracy: 0.8592 - val_loss: 0.4339 - val_accuracy: 0.8311\n",
            "Epoch 36/100\n",
            "32/32 [==============================] - 0s 3ms/step - loss: 0.3916 - accuracy: 0.8868 - val_loss: 0.4274 - val_accuracy: 0.8356\n",
            "Epoch 37/100\n",
            "32/32 [==============================] - 0s 3ms/step - loss: 0.3890 - accuracy: 0.8755 - val_loss: 0.4212 - val_accuracy: 0.8402\n",
            "Epoch 38/100\n",
            "32/32 [==============================] - 0s 2ms/step - loss: 0.3814 - accuracy: 0.8802 - val_loss: 0.4153 - val_accuracy: 0.8356\n",
            "Epoch 39/100\n",
            "32/32 [==============================] - 0s 2ms/step - loss: 0.3708 - accuracy: 0.8843 - val_loss: 0.4129 - val_accuracy: 0.8402\n",
            "Epoch 40/100\n",
            "32/32 [==============================] - 0s 3ms/step - loss: 0.3718 - accuracy: 0.8772 - val_loss: 0.4072 - val_accuracy: 0.8356\n",
            "Epoch 41/100\n",
            "32/32 [==============================] - 0s 3ms/step - loss: 0.3629 - accuracy: 0.8930 - val_loss: 0.4018 - val_accuracy: 0.8402\n",
            "Epoch 42/100\n",
            "32/32 [==============================] - 0s 2ms/step - loss: 0.3688 - accuracy: 0.8749 - val_loss: 0.3995 - val_accuracy: 0.8356\n",
            "Epoch 43/100\n",
            "32/32 [==============================] - 0s 3ms/step - loss: 0.3631 - accuracy: 0.8715 - val_loss: 0.3966 - val_accuracy: 0.8356\n",
            "Epoch 44/100\n",
            "32/32 [==============================] - 0s 3ms/step - loss: 0.3588 - accuracy: 0.8752 - val_loss: 0.3907 - val_accuracy: 0.8493\n",
            "Epoch 45/100\n",
            "32/32 [==============================] - 0s 2ms/step - loss: 0.3509 - accuracy: 0.8779 - val_loss: 0.3875 - val_accuracy: 0.8493\n",
            "Epoch 46/100\n",
            "32/32 [==============================] - 0s 3ms/step - loss: 0.3248 - accuracy: 0.8929 - val_loss: 0.3842 - val_accuracy: 0.8493\n",
            "Epoch 47/100\n",
            "32/32 [==============================] - 0s 3ms/step - loss: 0.3294 - accuracy: 0.8790 - val_loss: 0.3838 - val_accuracy: 0.8402\n",
            "Epoch 48/100\n",
            "32/32 [==============================] - 0s 3ms/step - loss: 0.3196 - accuracy: 0.8802 - val_loss: 0.3788 - val_accuracy: 0.8493\n",
            "Epoch 49/100\n",
            "32/32 [==============================] - 0s 2ms/step - loss: 0.3563 - accuracy: 0.8689 - val_loss: 0.3768 - val_accuracy: 0.8447\n",
            "Epoch 50/100\n",
            "32/32 [==============================] - 0s 2ms/step - loss: 0.3347 - accuracy: 0.8797 - val_loss: 0.3752 - val_accuracy: 0.8447\n",
            "Epoch 51/100\n",
            "32/32 [==============================] - 0s 2ms/step - loss: 0.3338 - accuracy: 0.8822 - val_loss: 0.3714 - val_accuracy: 0.8402\n",
            "Epoch 52/100\n",
            "32/32 [==============================] - 0s 2ms/step - loss: 0.3005 - accuracy: 0.8988 - val_loss: 0.3694 - val_accuracy: 0.8402\n",
            "Epoch 53/100\n",
            "32/32 [==============================] - 0s 2ms/step - loss: 0.3359 - accuracy: 0.8728 - val_loss: 0.3692 - val_accuracy: 0.8447\n",
            "Epoch 54/100\n",
            "32/32 [==============================] - 0s 3ms/step - loss: 0.3059 - accuracy: 0.8879 - val_loss: 0.3668 - val_accuracy: 0.8402\n",
            "Epoch 55/100\n",
            "32/32 [==============================] - 0s 3ms/step - loss: 0.3163 - accuracy: 0.8800 - val_loss: 0.3654 - val_accuracy: 0.8356\n",
            "Epoch 56/100\n",
            "32/32 [==============================] - 0s 3ms/step - loss: 0.3304 - accuracy: 0.8723 - val_loss: 0.3645 - val_accuracy: 0.8447\n",
            "Epoch 57/100\n",
            "32/32 [==============================] - 0s 2ms/step - loss: 0.3063 - accuracy: 0.8832 - val_loss: 0.3617 - val_accuracy: 0.8402\n",
            "Epoch 58/100\n",
            "32/32 [==============================] - 0s 3ms/step - loss: 0.3231 - accuracy: 0.8768 - val_loss: 0.3608 - val_accuracy: 0.8311\n",
            "Epoch 59/100\n",
            "32/32 [==============================] - 0s 3ms/step - loss: 0.3123 - accuracy: 0.8799 - val_loss: 0.3590 - val_accuracy: 0.8356\n",
            "Epoch 60/100\n",
            "32/32 [==============================] - 0s 2ms/step - loss: 0.2850 - accuracy: 0.8961 - val_loss: 0.3573 - val_accuracy: 0.8493\n",
            "Epoch 61/100\n",
            "32/32 [==============================] - 0s 2ms/step - loss: 0.2980 - accuracy: 0.8894 - val_loss: 0.3573 - val_accuracy: 0.8356\n",
            "Epoch 62/100\n",
            "32/32 [==============================] - 0s 2ms/step - loss: 0.3013 - accuracy: 0.8802 - val_loss: 0.3550 - val_accuracy: 0.8493\n",
            "Epoch 63/100\n",
            "32/32 [==============================] - 0s 3ms/step - loss: 0.3232 - accuracy: 0.8695 - val_loss: 0.3545 - val_accuracy: 0.8402\n",
            "Epoch 64/100\n",
            "32/32 [==============================] - 0s 2ms/step - loss: 0.3033 - accuracy: 0.8691 - val_loss: 0.3530 - val_accuracy: 0.8493\n",
            "Epoch 65/100\n",
            "32/32 [==============================] - 0s 3ms/step - loss: 0.2814 - accuracy: 0.9010 - val_loss: 0.3527 - val_accuracy: 0.8402\n",
            "Epoch 66/100\n",
            "32/32 [==============================] - 0s 3ms/step - loss: 0.3176 - accuracy: 0.8595 - val_loss: 0.3514 - val_accuracy: 0.8447\n",
            "Epoch 67/100\n",
            "32/32 [==============================] - 0s 3ms/step - loss: 0.2791 - accuracy: 0.8879 - val_loss: 0.3528 - val_accuracy: 0.8356\n",
            "Epoch 68/100\n",
            "32/32 [==============================] - 0s 3ms/step - loss: 0.2946 - accuracy: 0.8751 - val_loss: 0.3506 - val_accuracy: 0.8402\n",
            "Epoch 69/100\n",
            "32/32 [==============================] - 0s 2ms/step - loss: 0.2944 - accuracy: 0.8805 - val_loss: 0.3500 - val_accuracy: 0.8402\n",
            "Epoch 70/100\n",
            "32/32 [==============================] - 0s 2ms/step - loss: 0.2761 - accuracy: 0.8788 - val_loss: 0.3479 - val_accuracy: 0.8584\n",
            "Epoch 71/100\n",
            "32/32 [==============================] - 0s 3ms/step - loss: 0.2798 - accuracy: 0.9051 - val_loss: 0.3501 - val_accuracy: 0.8356\n",
            "Epoch 72/100\n",
            "32/32 [==============================] - 0s 2ms/step - loss: 0.2599 - accuracy: 0.8961 - val_loss: 0.3473 - val_accuracy: 0.8402\n",
            "Epoch 73/100\n",
            "32/32 [==============================] - 0s 2ms/step - loss: 0.2818 - accuracy: 0.8803 - val_loss: 0.3468 - val_accuracy: 0.8402\n",
            "Epoch 74/100\n",
            "32/32 [==============================] - 0s 2ms/step - loss: 0.2796 - accuracy: 0.8916 - val_loss: 0.3468 - val_accuracy: 0.8402\n",
            "Epoch 75/100\n",
            "32/32 [==============================] - 0s 3ms/step - loss: 0.3097 - accuracy: 0.8702 - val_loss: 0.3463 - val_accuracy: 0.8402\n",
            "Epoch 76/100\n",
            "32/32 [==============================] - 0s 2ms/step - loss: 0.2798 - accuracy: 0.8838 - val_loss: 0.3457 - val_accuracy: 0.8447\n",
            "Epoch 77/100\n",
            "32/32 [==============================] - 0s 3ms/step - loss: 0.2757 - accuracy: 0.8874 - val_loss: 0.3437 - val_accuracy: 0.8493\n",
            "Epoch 78/100\n",
            "32/32 [==============================] - 0s 2ms/step - loss: 0.3014 - accuracy: 0.8785 - val_loss: 0.3430 - val_accuracy: 0.8539\n",
            "Epoch 79/100\n",
            "32/32 [==============================] - 0s 3ms/step - loss: 0.2883 - accuracy: 0.8794 - val_loss: 0.3427 - val_accuracy: 0.8493\n",
            "Epoch 80/100\n",
            "32/32 [==============================] - 0s 2ms/step - loss: 0.2821 - accuracy: 0.8754 - val_loss: 0.3420 - val_accuracy: 0.8493\n",
            "Epoch 81/100\n",
            "32/32 [==============================] - 0s 2ms/step - loss: 0.2809 - accuracy: 0.8840 - val_loss: 0.3410 - val_accuracy: 0.8584\n",
            "Epoch 82/100\n",
            "32/32 [==============================] - 0s 2ms/step - loss: 0.2634 - accuracy: 0.8948 - val_loss: 0.3409 - val_accuracy: 0.8493\n",
            "Epoch 83/100\n",
            "32/32 [==============================] - 0s 3ms/step - loss: 0.2925 - accuracy: 0.8808 - val_loss: 0.3398 - val_accuracy: 0.8584\n",
            "Epoch 84/100\n",
            "32/32 [==============================] - 0s 3ms/step - loss: 0.2739 - accuracy: 0.8820 - val_loss: 0.3402 - val_accuracy: 0.8539\n",
            "Epoch 85/100\n",
            "32/32 [==============================] - 0s 3ms/step - loss: 0.2766 - accuracy: 0.8802 - val_loss: 0.3389 - val_accuracy: 0.8584\n",
            "Epoch 86/100\n",
            "32/32 [==============================] - 0s 3ms/step - loss: 0.2569 - accuracy: 0.9032 - val_loss: 0.3382 - val_accuracy: 0.8584\n",
            "Epoch 87/100\n",
            "32/32 [==============================] - 0s 3ms/step - loss: 0.2677 - accuracy: 0.8769 - val_loss: 0.3388 - val_accuracy: 0.8584\n",
            "Epoch 88/100\n",
            "32/32 [==============================] - 0s 3ms/step - loss: 0.2774 - accuracy: 0.8742 - val_loss: 0.3396 - val_accuracy: 0.8539\n",
            "Epoch 89/100\n",
            "32/32 [==============================] - 0s 3ms/step - loss: 0.2683 - accuracy: 0.9018 - val_loss: 0.3380 - val_accuracy: 0.8584\n",
            "Epoch 90/100\n",
            "32/32 [==============================] - 0s 3ms/step - loss: 0.2668 - accuracy: 0.8779 - val_loss: 0.3363 - val_accuracy: 0.8630\n",
            "Epoch 91/100\n",
            "32/32 [==============================] - 0s 3ms/step - loss: 0.2823 - accuracy: 0.8707 - val_loss: 0.3362 - val_accuracy: 0.8584\n",
            "Epoch 92/100\n",
            "32/32 [==============================] - 0s 2ms/step - loss: 0.2600 - accuracy: 0.8958 - val_loss: 0.3363 - val_accuracy: 0.8584\n",
            "Epoch 93/100\n",
            "32/32 [==============================] - 0s 3ms/step - loss: 0.2716 - accuracy: 0.8944 - val_loss: 0.3364 - val_accuracy: 0.8584\n",
            "Epoch 94/100\n",
            "32/32 [==============================] - 0s 2ms/step - loss: 0.2672 - accuracy: 0.8908 - val_loss: 0.3352 - val_accuracy: 0.8584\n",
            "Epoch 95/100\n",
            "32/32 [==============================] - 0s 3ms/step - loss: 0.2827 - accuracy: 0.8891 - val_loss: 0.3384 - val_accuracy: 0.8539\n",
            "Epoch 96/100\n",
            "32/32 [==============================] - 0s 3ms/step - loss: 0.2444 - accuracy: 0.9066 - val_loss: 0.3338 - val_accuracy: 0.8676\n",
            "Epoch 97/100\n",
            "32/32 [==============================] - 0s 3ms/step - loss: 0.2606 - accuracy: 0.9007 - val_loss: 0.3363 - val_accuracy: 0.8539\n",
            "Epoch 98/100\n",
            "32/32 [==============================] - 0s 3ms/step - loss: 0.2767 - accuracy: 0.8781 - val_loss: 0.3331 - val_accuracy: 0.8584\n",
            "Epoch 99/100\n",
            "32/32 [==============================] - 0s 3ms/step - loss: 0.2798 - accuracy: 0.8852 - val_loss: 0.3373 - val_accuracy: 0.8539\n",
            "Epoch 100/100\n",
            "32/32 [==============================] - 0s 3ms/step - loss: 0.2693 - accuracy: 0.8874 - val_loss: 0.3342 - val_accuracy: 0.8539\n"
          ],
          "name": "stdout"
        }
      ]
    },
    {
      "cell_type": "code",
      "metadata": {
        "colab": {
          "base_uri": "https://localhost:8080/"
        },
        "id": "2Q-ybQkn6ji5",
        "outputId": "c39d46df-1c9e-4331-9b53-32466a8ef361"
      },
      "source": [
        "# original accuracy\n",
        "model.evaluate(X_test, Y_test)[1]\n"
      ],
      "execution_count": 16,
      "outputs": [
        {
          "output_type": "stream",
          "text": [
            "7/7 [==============================] - 0s 2ms/step - loss: 0.2478 - accuracy: 0.9041\n"
          ],
          "name": "stdout"
        },
        {
          "output_type": "execute_result",
          "data": {
            "text/plain": [
              "0.9041095972061157"
            ]
          },
          "metadata": {
            "tags": []
          },
          "execution_count": 16
        }
      ]
    },
    {
      "cell_type": "markdown",
      "metadata": {
        "id": "SImfOE_66nMm"
      },
      "source": [
        "important: visualizing loss and accuracy --> how can we improve our model?"
      ]
    },
    {
      "cell_type": "code",
      "metadata": {
        "colab": {
          "base_uri": "https://localhost:8080/",
          "height": 295
        },
        "id": "XhuWG6vj6qzg",
        "outputId": "f231af0a-88d1-4da4-f2f6-f7c062640fd4"
      },
      "source": [
        "import matplotlib.pyplot as plt\n",
        "\n",
        "plt.plot(hist.history['loss'])\n",
        "plt.plot(hist.history['val_loss'])\n",
        "plt.title('Model loss')\n",
        "plt.ylabel('Loss')\n",
        "plt.xlabel('Epoch')\n",
        "plt.legend(['Train', 'Val'], loc='upper right')\n",
        "plt.show()\n"
      ],
      "execution_count": 17,
      "outputs": [
        {
          "output_type": "display_data",
          "data": {
            "image/png": "[encoded data removed]",
            "text/plain": [
              "<Figure size 432x288 with 1 Axes>"
            ]
          },
          "metadata": {
            "tags": [],
            "needs_background": "light"
          }
        }
      ]
    },
    {
      "cell_type": "code",
      "metadata": {
        "colab": {
          "base_uri": "https://localhost:8080/",
          "height": 295
        },
        "id": "3H4yAgwT7S4G",
        "outputId": "946f4f8c-aa28-4b85-9ef6-dae06a1dbb6d"
      },
      "source": [
        "plt.plot(hist.history['accuracy'])\n",
        "plt.plot(hist.history['val_accuracy'])\n",
        "plt.title('Model accuracy')\n",
        "plt.ylabel('Accuracy')\n",
        "plt.xlabel('Epoch')\n",
        "plt.legend(['Train', 'Val'], loc='lower right')\n",
        "plt.show()\n"
      ],
      "execution_count": 19,
      "outputs": [
        {
          "output_type": "display_data",
          "data": {
            "image/png": "[encoded data removed]",
            "text/plain": [
              "<Figure size 432x288 with 1 Axes>"
            ]
          },
          "metadata": {
            "tags": [],
            "needs_background": "light"
          }
        }
      ]
    },
    {
      "cell_type": "markdown",
      "metadata": {
        "id": "qTgvoDDi8ROL"
      },
      "source": [
        "addressing overfitting\n"
      ]
    },
    {
      "cell_type": "code",
      "metadata": {
        "id": "lYiBADTv8TnS"
      },
      "source": [
        "from keras.layers import Dropout\n",
        "from keras import regularizers\n",
        "\n",
        "model_3 = Sequential([\n",
        "    Dense(1000, activation='relu', kernel_regularizer=regularizers.l2(0.01), input_shape=(10,)),\n",
        "    Dropout(0.3),\n",
        "    Dense(1000, activation='relu', kernel_regularizer=regularizers.l2(0.01)),\n",
        "    Dropout(0.3),\n",
        "    Dense(1000, activation='relu', kernel_regularizer=regularizers.l2(0.01)),\n",
        "    Dropout(0.3),\n",
        "    Dense(1000, activation='relu', kernel_regularizer=regularizers.l2(0.01)),\n",
        "    Dropout(0.3),\n",
        "    Dense(1, activation='sigmoid', kernel_regularizer=regularizers.l2(0.01)),\n",
        "])\n"
      ],
      "execution_count": 20,
      "outputs": []
    },
    {
      "cell_type": "code",
      "metadata": {
        "colab": {
          "base_uri": "https://localhost:8080/"
        },
        "id": "IkEx4lHt8emu",
        "outputId": "670dc48b-88dd-48a2-d184-d9544d871e57"
      },
      "source": [
        "model_3.compile(optimizer='adam',\n",
        "              loss='binary_crossentropy',\n",
        "              metrics=['accuracy'])\n",
        "\n",
        "hist_3 = model_3.fit(X_train, Y_train,\n",
        "          batch_size=32, epochs=100,\n",
        "          validation_data=(X_val, Y_val))\n"
      ],
      "execution_count": 21,
      "outputs": [
        {
          "output_type": "stream",
          "text": [
            "Epoch 1/100\n",
            "32/32 [==============================] - 3s 53ms/step - loss: 21.0997 - accuracy: 0.5466 - val_loss: 3.9130 - val_accuracy: 0.7945\n",
            "Epoch 2/100\n",
            "32/32 [==============================] - 1s 46ms/step - loss: 2.4817 - accuracy: 0.7983 - val_loss: 0.6776 - val_accuracy: 0.8402\n",
            "Epoch 3/100\n",
            "32/32 [==============================] - 2s 47ms/step - loss: 0.6070 - accuracy: 0.8681 - val_loss: 0.5557 - val_accuracy: 0.8402\n",
            "Epoch 4/100\n",
            "32/32 [==============================] - 1s 46ms/step - loss: 0.4746 - accuracy: 0.9006 - val_loss: 0.5149 - val_accuracy: 0.8676\n",
            "Epoch 5/100\n",
            "32/32 [==============================] - 1s 47ms/step - loss: 0.4971 - accuracy: 0.8698 - val_loss: 0.5029 - val_accuracy: 0.8584\n",
            "Epoch 6/100\n",
            "32/32 [==============================] - 2s 47ms/step - loss: 0.4801 - accuracy: 0.8737 - val_loss: 0.5778 - val_accuracy: 0.8356\n",
            "Epoch 7/100\n",
            "32/32 [==============================] - 1s 46ms/step - loss: 0.4777 - accuracy: 0.8685 - val_loss: 0.5588 - val_accuracy: 0.8311\n",
            "Epoch 8/100\n",
            "32/32 [==============================] - 2s 47ms/step - loss: 0.4698 - accuracy: 0.8818 - val_loss: 0.4889 - val_accuracy: 0.8676\n",
            "Epoch 9/100\n",
            "32/32 [==============================] - 1s 46ms/step - loss: 0.4635 - accuracy: 0.8736 - val_loss: 0.5283 - val_accuracy: 0.8493\n",
            "Epoch 10/100\n",
            "32/32 [==============================] - 2s 47ms/step - loss: 0.4380 - accuracy: 0.8798 - val_loss: 0.5268 - val_accuracy: 0.8539\n",
            "Epoch 11/100\n",
            "32/32 [==============================] - 2s 47ms/step - loss: 0.4836 - accuracy: 0.8548 - val_loss: 0.5014 - val_accuracy: 0.8447\n",
            "Epoch 12/100\n",
            "32/32 [==============================] - 1s 46ms/step - loss: 0.4602 - accuracy: 0.8754 - val_loss: 0.5255 - val_accuracy: 0.8493\n",
            "Epoch 13/100\n",
            "32/32 [==============================] - 2s 48ms/step - loss: 0.4803 - accuracy: 0.8726 - val_loss: 0.4779 - val_accuracy: 0.8676\n",
            "Epoch 14/100\n",
            "32/32 [==============================] - 1s 47ms/step - loss: 0.4208 - accuracy: 0.9011 - val_loss: 0.5161 - val_accuracy: 0.8447\n",
            "Epoch 15/100\n",
            "32/32 [==============================] - 2s 48ms/step - loss: 0.4332 - accuracy: 0.8875 - val_loss: 0.5486 - val_accuracy: 0.8539\n",
            "Epoch 16/100\n",
            "32/32 [==============================] - 2s 48ms/step - loss: 0.4433 - accuracy: 0.8802 - val_loss: 0.4846 - val_accuracy: 0.8676\n",
            "Epoch 17/100\n",
            "32/32 [==============================] - 2s 47ms/step - loss: 0.4387 - accuracy: 0.8984 - val_loss: 0.4762 - val_accuracy: 0.8584\n",
            "Epoch 18/100\n",
            "32/32 [==============================] - 1s 47ms/step - loss: 0.4552 - accuracy: 0.8731 - val_loss: 0.4744 - val_accuracy: 0.8721\n",
            "Epoch 19/100\n",
            "32/32 [==============================] - 2s 47ms/step - loss: 0.4317 - accuracy: 0.8884 - val_loss: 0.4714 - val_accuracy: 0.8676\n",
            "Epoch 20/100\n",
            "32/32 [==============================] - 2s 48ms/step - loss: 0.4446 - accuracy: 0.8725 - val_loss: 0.4800 - val_accuracy: 0.8676\n",
            "Epoch 21/100\n",
            "32/32 [==============================] - 2s 48ms/step - loss: 0.4130 - accuracy: 0.8949 - val_loss: 0.5125 - val_accuracy: 0.8447\n",
            "Epoch 22/100\n",
            "32/32 [==============================] - 1s 47ms/step - loss: 0.4516 - accuracy: 0.8700 - val_loss: 0.4740 - val_accuracy: 0.8584\n",
            "Epoch 23/100\n",
            "32/32 [==============================] - 2s 47ms/step - loss: 0.4057 - accuracy: 0.9048 - val_loss: 0.5413 - val_accuracy: 0.8402\n",
            "Epoch 24/100\n",
            "32/32 [==============================] - 2s 74ms/step - loss: 0.4496 - accuracy: 0.8726 - val_loss: 0.4814 - val_accuracy: 0.8493\n",
            "Epoch 25/100\n",
            "32/32 [==============================] - 2s 53ms/step - loss: 0.4226 - accuracy: 0.8845 - val_loss: 0.4672 - val_accuracy: 0.8676\n",
            "Epoch 26/100\n",
            "32/32 [==============================] - 2s 50ms/step - loss: 0.4350 - accuracy: 0.8860 - val_loss: 0.4656 - val_accuracy: 0.8767\n",
            "Epoch 27/100\n",
            "32/32 [==============================] - 2s 49ms/step - loss: 0.4120 - accuracy: 0.9094 - val_loss: 0.5690 - val_accuracy: 0.8311\n",
            "Epoch 28/100\n",
            "32/32 [==============================] - 2s 50ms/step - loss: 0.4526 - accuracy: 0.8772 - val_loss: 0.4669 - val_accuracy: 0.8539\n",
            "Epoch 29/100\n",
            "32/32 [==============================] - 2s 48ms/step - loss: 0.4188 - accuracy: 0.8956 - val_loss: 0.4703 - val_accuracy: 0.8676\n",
            "Epoch 30/100\n",
            "32/32 [==============================] - 1s 46ms/step - loss: 0.4253 - accuracy: 0.8966 - val_loss: 0.4827 - val_accuracy: 0.8447\n",
            "Epoch 31/100\n",
            "32/32 [==============================] - 2s 50ms/step - loss: 0.4374 - accuracy: 0.8814 - val_loss: 0.5050 - val_accuracy: 0.8539\n",
            "Epoch 32/100\n",
            "32/32 [==============================] - 2s 47ms/step - loss: 0.4509 - accuracy: 0.8915 - val_loss: 0.5021 - val_accuracy: 0.8539\n",
            "Epoch 33/100\n",
            "32/32 [==============================] - 1s 46ms/step - loss: 0.4309 - accuracy: 0.8994 - val_loss: 0.4682 - val_accuracy: 0.8630\n",
            "Epoch 34/100\n",
            "32/32 [==============================] - 2s 50ms/step - loss: 0.4221 - accuracy: 0.8931 - val_loss: 0.4927 - val_accuracy: 0.8539\n",
            "Epoch 35/100\n",
            "32/32 [==============================] - 1s 47ms/step - loss: 0.4239 - accuracy: 0.8796 - val_loss: 0.4738 - val_accuracy: 0.8584\n",
            "Epoch 36/100\n",
            "32/32 [==============================] - 2s 47ms/step - loss: 0.4054 - accuracy: 0.9079 - val_loss: 0.5218 - val_accuracy: 0.8539\n",
            "Epoch 37/100\n",
            "32/32 [==============================] - 2s 47ms/step - loss: 0.4941 - accuracy: 0.8537 - val_loss: 0.4856 - val_accuracy: 0.8630\n",
            "Epoch 38/100\n",
            "32/32 [==============================] - 1s 46ms/step - loss: 0.4258 - accuracy: 0.9014 - val_loss: 0.4722 - val_accuracy: 0.8584\n",
            "Epoch 39/100\n",
            "32/32 [==============================] - 1s 47ms/step - loss: 0.4271 - accuracy: 0.8857 - val_loss: 0.4713 - val_accuracy: 0.8630\n",
            "Epoch 40/100\n",
            "32/32 [==============================] - 2s 49ms/step - loss: 0.4532 - accuracy: 0.8774 - val_loss: 0.4668 - val_accuracy: 0.8630\n",
            "Epoch 41/100\n",
            "32/32 [==============================] - 1s 47ms/step - loss: 0.4572 - accuracy: 0.8679 - val_loss: 0.4766 - val_accuracy: 0.8630\n",
            "Epoch 42/100\n",
            "32/32 [==============================] - 1s 45ms/step - loss: 0.4294 - accuracy: 0.9006 - val_loss: 0.4716 - val_accuracy: 0.8584\n",
            "Epoch 43/100\n",
            "32/32 [==============================] - 1s 46ms/step - loss: 0.4398 - accuracy: 0.8892 - val_loss: 0.4671 - val_accuracy: 0.8630\n",
            "Epoch 44/100\n",
            "32/32 [==============================] - 1s 47ms/step - loss: 0.4477 - accuracy: 0.8643 - val_loss: 0.4648 - val_accuracy: 0.8584\n",
            "Epoch 45/100\n",
            "32/32 [==============================] - 1s 46ms/step - loss: 0.4380 - accuracy: 0.8760 - val_loss: 0.5107 - val_accuracy: 0.8539\n",
            "Epoch 46/100\n",
            "32/32 [==============================] - 1s 46ms/step - loss: 0.4782 - accuracy: 0.8553 - val_loss: 0.5032 - val_accuracy: 0.8584\n",
            "Epoch 47/100\n",
            "32/32 [==============================] - 1s 46ms/step - loss: 0.4164 - accuracy: 0.8984 - val_loss: 0.4722 - val_accuracy: 0.8630\n",
            "Epoch 48/100\n",
            "32/32 [==============================] - 2s 50ms/step - loss: 0.4362 - accuracy: 0.8800 - val_loss: 0.4803 - val_accuracy: 0.8630\n",
            "Epoch 49/100\n",
            "32/32 [==============================] - 1s 46ms/step - loss: 0.4445 - accuracy: 0.8801 - val_loss: 0.4929 - val_accuracy: 0.8539\n",
            "Epoch 50/100\n",
            "32/32 [==============================] - 1s 47ms/step - loss: 0.4376 - accuracy: 0.8857 - val_loss: 0.4633 - val_accuracy: 0.8721\n",
            "Epoch 51/100\n",
            "32/32 [==============================] - 1s 46ms/step - loss: 0.4454 - accuracy: 0.8691 - val_loss: 0.4965 - val_accuracy: 0.8539\n",
            "Epoch 52/100\n",
            "32/32 [==============================] - 2s 48ms/step - loss: 0.4193 - accuracy: 0.8894 - val_loss: 0.4958 - val_accuracy: 0.8584\n",
            "Epoch 53/100\n",
            "32/32 [==============================] - 2s 47ms/step - loss: 0.4320 - accuracy: 0.8858 - val_loss: 0.4937 - val_accuracy: 0.8584\n",
            "Epoch 54/100\n",
            "32/32 [==============================] - 2s 47ms/step - loss: 0.4332 - accuracy: 0.8868 - val_loss: 0.4824 - val_accuracy: 0.8539\n",
            "Epoch 55/100\n",
            "32/32 [==============================] - 2s 48ms/step - loss: 0.4317 - accuracy: 0.8773 - val_loss: 0.4694 - val_accuracy: 0.8721\n",
            "Epoch 56/100\n",
            "32/32 [==============================] - 1s 47ms/step - loss: 0.4270 - accuracy: 0.8817 - val_loss: 0.4682 - val_accuracy: 0.8721\n",
            "Epoch 57/100\n",
            "32/32 [==============================] - 2s 47ms/step - loss: 0.4150 - accuracy: 0.9087 - val_loss: 0.4693 - val_accuracy: 0.8630\n",
            "Epoch 58/100\n",
            "32/32 [==============================] - 2s 47ms/step - loss: 0.4362 - accuracy: 0.8712 - val_loss: 0.4671 - val_accuracy: 0.8676\n",
            "Epoch 59/100\n",
            "32/32 [==============================] - 1s 47ms/step - loss: 0.4118 - accuracy: 0.9011 - val_loss: 0.4653 - val_accuracy: 0.8630\n",
            "Epoch 60/100\n",
            "32/32 [==============================] - 2s 51ms/step - loss: 0.4228 - accuracy: 0.8815 - val_loss: 0.4670 - val_accuracy: 0.8584\n",
            "Epoch 61/100\n",
            "32/32 [==============================] - 2s 49ms/step - loss: 0.4302 - accuracy: 0.8832 - val_loss: 0.4637 - val_accuracy: 0.8630\n",
            "Epoch 62/100\n",
            "32/32 [==============================] - 2s 48ms/step - loss: 0.4307 - accuracy: 0.8934 - val_loss: 0.4914 - val_accuracy: 0.8493\n",
            "Epoch 63/100\n",
            "32/32 [==============================] - 1s 47ms/step - loss: 0.4480 - accuracy: 0.8716 - val_loss: 0.4652 - val_accuracy: 0.8721\n",
            "Epoch 64/100\n",
            "32/32 [==============================] - 2s 48ms/step - loss: 0.4104 - accuracy: 0.8975 - val_loss: 0.4654 - val_accuracy: 0.8630\n",
            "Epoch 65/100\n",
            "32/32 [==============================] - 2s 48ms/step - loss: 0.4011 - accuracy: 0.9022 - val_loss: 0.4792 - val_accuracy: 0.8539\n",
            "Epoch 66/100\n",
            "32/32 [==============================] - 2s 47ms/step - loss: 0.4164 - accuracy: 0.8876 - val_loss: 0.4752 - val_accuracy: 0.8539\n",
            "Epoch 67/100\n",
            "32/32 [==============================] - 1s 47ms/step - loss: 0.4361 - accuracy: 0.8888 - val_loss: 0.4877 - val_accuracy: 0.8584\n",
            "Epoch 68/100\n",
            "32/32 [==============================] - 2s 48ms/step - loss: 0.4144 - accuracy: 0.9070 - val_loss: 0.4644 - val_accuracy: 0.8721\n",
            "Epoch 69/100\n",
            "32/32 [==============================] - 2s 48ms/step - loss: 0.4406 - accuracy: 0.8733 - val_loss: 0.4808 - val_accuracy: 0.8539\n",
            "Epoch 70/100\n",
            "32/32 [==============================] - 1s 46ms/step - loss: 0.4777 - accuracy: 0.8561 - val_loss: 0.5664 - val_accuracy: 0.8584\n",
            "Epoch 71/100\n",
            "32/32 [==============================] - 2s 48ms/step - loss: 0.4115 - accuracy: 0.9018 - val_loss: 0.4672 - val_accuracy: 0.8630\n",
            "Epoch 72/100\n",
            "32/32 [==============================] - 2s 48ms/step - loss: 0.4242 - accuracy: 0.8745 - val_loss: 0.4864 - val_accuracy: 0.8539\n",
            "Epoch 73/100\n",
            "32/32 [==============================] - 2s 48ms/step - loss: 0.4289 - accuracy: 0.8826 - val_loss: 0.4882 - val_accuracy: 0.8584\n",
            "Epoch 74/100\n",
            "32/32 [==============================] - 2s 47ms/step - loss: 0.4660 - accuracy: 0.8466 - val_loss: 0.4847 - val_accuracy: 0.8493\n",
            "Epoch 75/100\n",
            "32/32 [==============================] - 2s 47ms/step - loss: 0.4234 - accuracy: 0.8877 - val_loss: 0.4663 - val_accuracy: 0.8676\n",
            "Epoch 76/100\n",
            "32/32 [==============================] - 2s 48ms/step - loss: 0.4080 - accuracy: 0.8884 - val_loss: 0.4737 - val_accuracy: 0.8493\n",
            "Epoch 77/100\n",
            "32/32 [==============================] - 2s 47ms/step - loss: 0.4188 - accuracy: 0.8782 - val_loss: 0.4608 - val_accuracy: 0.8721\n",
            "Epoch 78/100\n",
            "32/32 [==============================] - 2s 47ms/step - loss: 0.4275 - accuracy: 0.8807 - val_loss: 0.4615 - val_accuracy: 0.8767\n",
            "Epoch 79/100\n",
            "32/32 [==============================] - 2s 46ms/step - loss: 0.4116 - accuracy: 0.8932 - val_loss: 0.4678 - val_accuracy: 0.8584\n",
            "Epoch 80/100\n",
            "32/32 [==============================] - 1s 46ms/step - loss: 0.4400 - accuracy: 0.8839 - val_loss: 0.5253 - val_accuracy: 0.8539\n",
            "Epoch 81/100\n",
            "32/32 [==============================] - 2s 48ms/step - loss: 0.4271 - accuracy: 0.8836 - val_loss: 0.4719 - val_accuracy: 0.8584\n",
            "Epoch 82/100\n",
            "32/32 [==============================] - 1s 47ms/step - loss: 0.4180 - accuracy: 0.9043 - val_loss: 0.4654 - val_accuracy: 0.8630\n",
            "Epoch 83/100\n",
            "32/32 [==============================] - 1s 46ms/step - loss: 0.4249 - accuracy: 0.8945 - val_loss: 0.4828 - val_accuracy: 0.8539\n",
            "Epoch 84/100\n",
            "32/32 [==============================] - 2s 47ms/step - loss: 0.4319 - accuracy: 0.8848 - val_loss: 0.4888 - val_accuracy: 0.8493\n",
            "Epoch 85/100\n",
            "32/32 [==============================] - 1s 46ms/step - loss: 0.4535 - accuracy: 0.8794 - val_loss: 0.4709 - val_accuracy: 0.8630\n",
            "Epoch 86/100\n",
            "32/32 [==============================] - 2s 47ms/step - loss: 0.4278 - accuracy: 0.8875 - val_loss: 0.4665 - val_accuracy: 0.8721\n",
            "Epoch 87/100\n",
            "32/32 [==============================] - 1s 46ms/step - loss: 0.4333 - accuracy: 0.8910 - val_loss: 0.4679 - val_accuracy: 0.8721\n",
            "Epoch 88/100\n",
            "32/32 [==============================] - 2s 48ms/step - loss: 0.4003 - accuracy: 0.8999 - val_loss: 0.4647 - val_accuracy: 0.8767\n",
            "Epoch 89/100\n",
            "32/32 [==============================] - 2s 49ms/step - loss: 0.4354 - accuracy: 0.8760 - val_loss: 0.5091 - val_accuracy: 0.8767\n",
            "Epoch 90/100\n",
            "32/32 [==============================] - 2s 51ms/step - loss: 0.4599 - accuracy: 0.8762 - val_loss: 0.4669 - val_accuracy: 0.8721\n",
            "Epoch 91/100\n",
            "32/32 [==============================] - 2s 51ms/step - loss: 0.4395 - accuracy: 0.8836 - val_loss: 0.4738 - val_accuracy: 0.8584\n",
            "Epoch 92/100\n",
            "32/32 [==============================] - 2s 48ms/step - loss: 0.4194 - accuracy: 0.8898 - val_loss: 0.4979 - val_accuracy: 0.8539\n",
            "Epoch 93/100\n",
            "32/32 [==============================] - 2s 49ms/step - loss: 0.4278 - accuracy: 0.8788 - val_loss: 0.4722 - val_accuracy: 0.8584\n",
            "Epoch 94/100\n",
            "32/32 [==============================] - 2s 48ms/step - loss: 0.4328 - accuracy: 0.8957 - val_loss: 0.4689 - val_accuracy: 0.8584\n",
            "Epoch 95/100\n",
            "32/32 [==============================] - 2s 47ms/step - loss: 0.4540 - accuracy: 0.8732 - val_loss: 0.4757 - val_accuracy: 0.8584\n",
            "Epoch 96/100\n",
            "32/32 [==============================] - 2s 48ms/step - loss: 0.4176 - accuracy: 0.8854 - val_loss: 0.5162 - val_accuracy: 0.8539\n",
            "Epoch 97/100\n",
            "32/32 [==============================] - 2s 48ms/step - loss: 0.4472 - accuracy: 0.8731 - val_loss: 0.5030 - val_accuracy: 0.8539\n",
            "Epoch 98/100\n",
            "32/32 [==============================] - 2s 48ms/step - loss: 0.4069 - accuracy: 0.8937 - val_loss: 0.4636 - val_accuracy: 0.8676\n",
            "Epoch 99/100\n",
            "32/32 [==============================] - 1s 47ms/step - loss: 0.4007 - accuracy: 0.8992 - val_loss: 0.4950 - val_accuracy: 0.8539\n",
            "Epoch 100/100\n",
            "32/32 [==============================] - 2s 47ms/step - loss: 0.4173 - accuracy: 0.8883 - val_loss: 0.4823 - val_accuracy: 0.8539\n"
          ],
          "name": "stdout"
        }
      ]
    },
    {
      "cell_type": "code",
      "metadata": {
        "colab": {
          "base_uri": "https://localhost:8080/",
          "height": 295
        },
        "id": "QMwoUVNf9tES",
        "outputId": "87defed8-9aa9-4273-9816-d4ddf4c95282"
      },
      "source": [
        "# visualize loss\n",
        "plt.plot(hist_3.history['loss'])\n",
        "plt.plot(hist_3.history['val_loss'])\n",
        "plt.title('Model loss')\n",
        "plt.ylabel('Loss')\n",
        "plt.xlabel('Epoch')\n",
        "plt.legend(['Train', 'Val'], loc='upper right')\n",
        "plt.ylim(top=1.2, bottom=0)\n",
        "plt.show()\n"
      ],
      "execution_count": 22,
      "outputs": [
        {
          "output_type": "display_data",
          "data": {
            "image/png": "[encoded data removed]",
            "text/plain": [
              "<Figure size 432x288 with 1 Axes>"
            ]
          },
          "metadata": {
            "tags": [],
            "needs_background": "light"
          }
        }
      ]
    },
    {
      "cell_type": "code",
      "metadata": {
        "colab": {
          "base_uri": "https://localhost:8080/",
          "height": 295
        },
        "id": "sWDD4Wka9xcc",
        "outputId": "32dbc47b-198e-4ce0-a6fd-2a81ebf21411"
      },
      "source": [
        "# visualize accuracy\n",
        "plt.plot(hist_3.history['accuracy'])\n",
        "plt.plot(hist_3.history['val_accuracy'])\n",
        "plt.title('Model accuracy')\n",
        "plt.ylabel('Accuracy')\n",
        "plt.xlabel('Epoch')\n",
        "plt.legend(['Train', 'Val'], loc='lower right')\n",
        "plt.show()\n"
      ],
      "execution_count": 23,
      "outputs": [
        {
          "output_type": "display_data",
          "data": {
            "image/png": "[encoded data removed]",
            "text/plain": [
              "<Figure size 432x288 with 1 Axes>"
            ]
          },
          "metadata": {
            "tags": [],
            "needs_background": "light"
          }
        }
      ]
    },
    {
      "cell_type": "code",
      "metadata": {
        "colab": {
          "base_uri": "https://localhost:8080/"
        },
        "id": "_ICjL7ir94Sp",
        "outputId": "c53ae4a5-e3ad-425d-fa3d-0190fc9340fe"
      },
      "source": [
        "# accuracy\n",
        "model_3.evaluate(X_test, Y_test)[1]\n"
      ],
      "execution_count": 25,
      "outputs": [
        {
          "output_type": "stream",
          "text": [
            "7/7 [==============================] - 0s 12ms/step - loss: 0.4004 - accuracy: 0.9041\n"
          ],
          "name": "stdout"
        },
        {
          "output_type": "execute_result",
          "data": {
            "text/plain": [
              "0.9041095972061157"
            ]
          },
          "metadata": {
            "tags": []
          },
          "execution_count": 25
        }
      ]
    }
  ]
}